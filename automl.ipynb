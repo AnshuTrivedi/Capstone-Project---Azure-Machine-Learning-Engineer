{
  "cells": [
    {
      "cell_type": "markdown",
      "source": [
        "# Automated ML\n",
        "\n",
        "TODO: Import Dependencies. In the cell below, import all the dependencies that you will need to complete the project."
      ],
      "metadata": {}
    },
    {
      "cell_type": "markdown",
      "source": [
        "### Import Dependencies"
      ],
      "metadata": {}
    },
    {
      "cell_type": "code",
      "source": [
        "from azureml.core.workspace import Workspace\n",
        "import logging\n",
        "from azureml.train.automl import AutoMLConfig\n",
        "from azureml.core.experiment import Experiment\n",
        "from azureml.widgets import RunDetails \n"
      ],
      "outputs": [],
      "execution_count": 1,
      "metadata": {
        "gather": {
          "logged": 1618882562301
        },
        "jupyter": {
          "outputs_hidden": false,
          "source_hidden": false
        },
        "nteract": {
          "transient": {
            "deleting": false
          }
        }
      }
    },
    {
      "cell_type": "markdown",
      "source": [
        "### Workspace configuration"
      ],
      "metadata": {}
    },
    {
      "cell_type": "code",
      "source": [
        "ws = Workspace.from_config()\n",
        "\n",
        "# choose a name for experiment\n",
        "experiment_name = 'capstone_automl'\n",
        "\n",
        "experiment=Experiment(ws, experiment_name)"
      ],
      "outputs": [],
      "execution_count": 2,
      "metadata": {
        "gather": {
          "logged": 1618882565847
        },
        "jupyter": {
          "outputs_hidden": false,
          "source_hidden": false
        },
        "nteract": {
          "transient": {
            "deleting": false
          }
        }
      }
    },
    {
      "cell_type": "markdown",
      "source": [
        "### Compute Configuration"
      ],
      "metadata": {}
    },
    {
      "cell_type": "code",
      "source": [
        "from azureml.core.compute import ComputeTarget, AmlCompute\n",
        "from azureml.core.compute_target import ComputeTargetException\n",
        "\n",
        "compute_cluster_name = 'capstone-compute'\n",
        "\n",
        "try:\n",
        "    compute_target = ComputeTarget(workspace=ws, name = compute_cluster_name)\n",
        "    print('Found the compute cluster')\n",
        "\n",
        "except ComputeTargetException:\n",
        "    compute_config = AmlCompute.provisioning_configuration(vm_size=\"STANDARD_D3_V2\", max_nodes=6)\n",
        "    compute_target = ComputeTarget.create(ws, compute_cluster_name, compute_config)\n",
        "    compute_target.wait_for_completion(show_output=True)"
      ],
      "outputs": [
        {
          "output_type": "stream",
          "name": "stdout",
          "text": [
            "Creating...\n",
            "SucceededProvisioning operation finished, operation \"Succeeded\"\n",
            "Succeeded\n",
            "AmlCompute wait for completion finished\n",
            "\n",
            "Minimum number of nodes requested have been provisioned\n"
          ]
        }
      ],
      "execution_count": 3,
      "metadata": {
        "gather": {
          "logged": 1618882590495
        }
      }
    },
    {
      "cell_type": "markdown",
      "source": [
        "## Dataset\n",
        "\n",
        "### Overview\n",
        "TODO: In this markdown cell, give an overview of the dataset you are using. Also mention the task you will be performing.\n",
        "\n",
        "#### Dataset Overview\n",
        "Data is taken from kaggle Datasets collection for price fix of newly manufactured mobiles in company.\n",
        "\n",
        "#### Task:\n",
        "Estimate the price of mobiles produced by company based on sales data of mobile phones of various companies.\n",
        "That is find out some relation between features of a mobile phone(eg:- RAM,Internal Memory etc) and decide price based on it."
      ],
      "metadata": {}
    },
    {
      "cell_type": "markdown",
      "source": [
        "TODO: Get data. In the cell below, write code to access the data you will be using in this project. Remember that the dataset needs to be external."
      ],
      "metadata": {}
    },
    {
      "cell_type": "code",
      "source": [
        "from azureml.core.dataset import Dataset\n",
        "from sklearn.model_selection import train_test_split\n",
        "\n",
        "key = 'mobile price classification dataset'\n",
        "if key in ws.datasets.keys():\n",
        "    dataset = ws.datasets[key]\n",
        "    print(\"dataset found!\")\n",
        "\n",
        "else:\n",
        "    mobile_sales_data = Dataset.get_by_name(ws, name='mobile_data')"
      ],
      "outputs": [],
      "execution_count": 4,
      "metadata": {
        "gather": {
          "logged": 1618882605535
        }
      }
    },
    {
      "cell_type": "code",
      "source": [
        "mobile_sales_data.take(3).to_pandas_dataframe()\r\n",
        "#mobile_sales_data"
      ],
      "outputs": [
        {
          "output_type": "execute_result",
          "execution_count": 5,
          "data": {
            "text/plain": "   battery_power  blue  clock_speed  dual_sim  fc  four_g  int_memory  m_dep  \\\n0            842     0          2.2         0   1       0           7    0.6   \n1           1021     1          0.5         1   0       1          53    0.7   \n2            563     1          0.5         1   2       1          41    0.9   \n\n   mobile_wt  n_cores  ...  px_height  px_width   ram  sc_h  sc_w  talk_time  \\\n0        188        2  ...         20       756  2549     9     7         19   \n1        136        3  ...        905      1988  2631    17     3          7   \n2        145        5  ...       1263      1716  2603    11     2          9   \n\n   three_g  touch_screen  wifi  price_range  \n0        0             0     1            1  \n1        1             1     0            2  \n2        1             1     0            2  \n\n[3 rows x 21 columns]",
            "text/html": "<div>\n<style scoped>\n    .dataframe tbody tr th:only-of-type {\n        vertical-align: middle;\n    }\n\n    .dataframe tbody tr th {\n        vertical-align: top;\n    }\n\n    .dataframe thead th {\n        text-align: right;\n    }\n</style>\n<table border=\"1\" class=\"dataframe\">\n  <thead>\n    <tr style=\"text-align: right;\">\n      <th></th>\n      <th>battery_power</th>\n      <th>blue</th>\n      <th>clock_speed</th>\n      <th>dual_sim</th>\n      <th>fc</th>\n      <th>four_g</th>\n      <th>int_memory</th>\n      <th>m_dep</th>\n      <th>mobile_wt</th>\n      <th>n_cores</th>\n      <th>...</th>\n      <th>px_height</th>\n      <th>px_width</th>\n      <th>ram</th>\n      <th>sc_h</th>\n      <th>sc_w</th>\n      <th>talk_time</th>\n      <th>three_g</th>\n      <th>touch_screen</th>\n      <th>wifi</th>\n      <th>price_range</th>\n    </tr>\n  </thead>\n  <tbody>\n    <tr>\n      <th>0</th>\n      <td>842</td>\n      <td>0</td>\n      <td>2.2</td>\n      <td>0</td>\n      <td>1</td>\n      <td>0</td>\n      <td>7</td>\n      <td>0.6</td>\n      <td>188</td>\n      <td>2</td>\n      <td>...</td>\n      <td>20</td>\n      <td>756</td>\n      <td>2549</td>\n      <td>9</td>\n      <td>7</td>\n      <td>19</td>\n      <td>0</td>\n      <td>0</td>\n      <td>1</td>\n      <td>1</td>\n    </tr>\n    <tr>\n      <th>1</th>\n      <td>1021</td>\n      <td>1</td>\n      <td>0.5</td>\n      <td>1</td>\n      <td>0</td>\n      <td>1</td>\n      <td>53</td>\n      <td>0.7</td>\n      <td>136</td>\n      <td>3</td>\n      <td>...</td>\n      <td>905</td>\n      <td>1988</td>\n      <td>2631</td>\n      <td>17</td>\n      <td>3</td>\n      <td>7</td>\n      <td>1</td>\n      <td>1</td>\n      <td>0</td>\n      <td>2</td>\n    </tr>\n    <tr>\n      <th>2</th>\n      <td>563</td>\n      <td>1</td>\n      <td>0.5</td>\n      <td>1</td>\n      <td>2</td>\n      <td>1</td>\n      <td>41</td>\n      <td>0.9</td>\n      <td>145</td>\n      <td>5</td>\n      <td>...</td>\n      <td>1263</td>\n      <td>1716</td>\n      <td>2603</td>\n      <td>11</td>\n      <td>2</td>\n      <td>9</td>\n      <td>1</td>\n      <td>1</td>\n      <td>0</td>\n      <td>2</td>\n    </tr>\n  </tbody>\n</table>\n<p>3 rows × 21 columns</p>\n</div>"
          },
          "metadata": {}
        }
      ],
      "execution_count": 5,
      "metadata": {
        "gather": {
          "logged": 1618882608088
        }
      }
    },
    {
      "cell_type": "markdown",
      "source": [
        "## AutoML Configuration\n",
        "\n",
        "TODO: Explain why you chose the automl settings and cofiguration you used below."
      ],
      "metadata": {}
    },
    {
      "cell_type": "code",
      "source": [
        "# TODO: Put your automl settings here\n",
        "automl_settings = {\"iteration_timeout_minutes\": 7,\n",
        "    \"experiment_timeout_minutes\": 25,\n",
        "    \"enable_early_stopping\": True,\n",
        "    \"primary_metric\": 'accuracy',\n",
        "    \"featurization\": 'auto',\n",
        "    \"verbosity\": logging.INFO,\n",
        "    \"n_cross_validations\": 4}\n",
        "\n",
        "# TODO: Put your automl config here\n",
        "automl_config = AutoMLConfig(compute_target = compute_target,\n",
        "                             task='classification',\n",
        "                             debug_log='automated_ml_errors.log',\n",
        "                             training_data=mobile_sales_data,\n",
        "                             label_column_name=\"price_range\",\n",
        "                             **automl_settings)"
      ],
      "outputs": [],
      "execution_count": 6,
      "metadata": {
        "gather": {
          "logged": 1618882628819
        },
        "jupyter": {
          "outputs_hidden": false,
          "source_hidden": false
        },
        "nteract": {
          "transient": {
            "deleting": false
          }
        }
      }
    },
    {
      "cell_type": "code",
      "source": [
        "# TODO: Submit your experiment\n",
        "remote_run = experiment.submit(automl_config)\n"
      ],
      "outputs": [
        {
          "output_type": "stream",
          "name": "stdout",
          "text": [
            "Submitting remote run.\n"
          ]
        },
        {
          "output_type": "display_data",
          "data": {
            "text/plain": "<IPython.core.display.HTML object>",
            "text/html": "<table style=\"width:100%\"><tr><th>Experiment</th><th>Id</th><th>Type</th><th>Status</th><th>Details Page</th><th>Docs Page</th></tr><tr><td>capstone_automl</td><td>AutoML_e5dc7447-e4a9-44ac-a048-0ebec61dd69e</td><td>automl</td><td>NotStarted</td><td><a href=\"https://ml.azure.com/runs/AutoML_e5dc7447-e4a9-44ac-a048-0ebec61dd69e?wsid=/subscriptions/a0a76bad-11a1-4a2d-9887-97a29122c8ed/resourcegroups/aml-quickstarts-143196/workspaces/quick-starts-ws-143196&amp;tid=660b3398-b80e-49d2-bc5b-ac1dc93b5254\" target=\"_blank\" rel=\"noopener\">Link to Azure Machine Learning studio</a></td><td><a href=\"https://docs.microsoft.com/en-us/python/api/overview/azure/ml/intro?view=azure-ml-py\" target=\"_blank\" rel=\"noopener\">Link to Documentation</a></td></tr></table>"
          },
          "metadata": {}
        }
      ],
      "execution_count": 7,
      "metadata": {
        "gather": {
          "logged": 1618882638684
        },
        "jupyter": {
          "outputs_hidden": false,
          "source_hidden": false
        },
        "nteract": {
          "transient": {
            "deleting": false
          }
        }
      }
    },
    {
      "cell_type": "markdown",
      "source": [
        "## Run Details\n",
        "\n",
        "OPTIONAL: Write about the different models trained and their performance. Why do you think some models did better than others?\n",
        "\n",
        "TODO: In the cell below, use the `RunDetails` widget to show the different experiments."
      ],
      "metadata": {}
    },
    {
      "cell_type": "code",
      "source": [
        "RunDetails(remote_run).show()\r\n",
        "remote_run.wait_for_completion(show_output=True)"
      ],
      "outputs": [
        {
          "output_type": "display_data",
          "data": {
            "text/plain": "_AutoMLWidget(widget_settings={'childWidgetDisplay': 'popup', 'send_telemetry': False, 'log_level': 'INFO', 's…",
            "application/vnd.jupyter.widget-view+json": {
              "version_major": 2,
              "version_minor": 0,
              "model_id": "7d1c377ad36c45d9820bd9e8b3a15abb"
            }
          },
          "metadata": {}
        },
        {
          "output_type": "display_data",
          "data": {
            "application/aml.mini.widget.v1": "{\"status\": \"Completed\", \"workbench_run_details_uri\": \"https://ml.azure.com/runs/AutoML_e5dc7447-e4a9-44ac-a048-0ebec61dd69e?wsid=/subscriptions/a0a76bad-11a1-4a2d-9887-97a29122c8ed/resourcegroups/aml-quickstarts-143196/workspaces/quick-starts-ws-143196&tid=660b3398-b80e-49d2-bc5b-ac1dc93b5254\", \"run_id\": \"AutoML_e5dc7447-e4a9-44ac-a048-0ebec61dd69e\", \"run_properties\": {\"run_id\": \"AutoML_e5dc7447-e4a9-44ac-a048-0ebec61dd69e\", \"created_utc\": \"2021-04-20T01:37:15.507141Z\", \"properties\": {\"num_iterations\": \"1000\", \"training_type\": \"TrainFull\", \"acquisition_function\": \"EI\", \"primary_metric\": \"accuracy\", \"train_split\": \"0\", \"acquisition_parameter\": \"0\", \"num_cross_validation\": \"4\", \"target\": \"capstone-compute\", \"AMLSettingsJsonString\": \"{\\\"path\\\":null,\\\"name\\\":\\\"capstone_automl\\\",\\\"subscription_id\\\":\\\"a0a76bad-11a1-4a2d-9887-97a29122c8ed\\\",\\\"resource_group\\\":\\\"aml-quickstarts-143196\\\",\\\"workspace_name\\\":\\\"quick-starts-ws-143196\\\",\\\"region\\\":\\\"southcentralus\\\",\\\"compute_target\\\":\\\"capstone-compute\\\",\\\"spark_service\\\":null,\\\"azure_service\\\":\\\"remote\\\",\\\"many_models\\\":false,\\\"pipeline_fetch_max_batch_size\\\":1,\\\"enable_batch_run\\\":false,\\\"enable_run_restructure\\\":false,\\\"iterations\\\":1000,\\\"primary_metric\\\":\\\"accuracy\\\",\\\"task_type\\\":\\\"classification\\\",\\\"data_script\\\":null,\\\"test_size\\\":0.0,\\\"validation_size\\\":0.0,\\\"n_cross_validations\\\":4,\\\"y_min\\\":null,\\\"y_max\\\":null,\\\"num_classes\\\":null,\\\"featurization\\\":\\\"auto\\\",\\\"_ignore_package_version_incompatibilities\\\":false,\\\"is_timeseries\\\":false,\\\"max_cores_per_iteration\\\":1,\\\"max_concurrent_iterations\\\":1,\\\"iteration_timeout_minutes\\\":7,\\\"mem_in_mb\\\":null,\\\"enforce_time_on_windows\\\":false,\\\"experiment_timeout_minutes\\\":25,\\\"experiment_exit_score\\\":null,\\\"whitelist_models\\\":null,\\\"blacklist_algos\\\":[\\\"TensorFlowLinearClassifier\\\",\\\"TensorFlowDNN\\\"],\\\"supported_models\\\":[\\\"LightGBM\\\",\\\"LogisticRegression\\\",\\\"LinearSVM\\\",\\\"DecisionTree\\\",\\\"TensorFlowDNN\\\",\\\"GradientBoosting\\\",\\\"BernoulliNaiveBayes\\\",\\\"RandomForest\\\",\\\"ExtremeRandomTrees\\\",\\\"TensorFlowLinearClassifier\\\",\\\"XGBoostClassifier\\\",\\\"KNN\\\",\\\"AveragedPerceptronClassifier\\\",\\\"SGD\\\",\\\"SVM\\\",\\\"MultinomialNaiveBayes\\\"],\\\"private_models\\\":[],\\\"auto_blacklist\\\":true,\\\"blacklist_samples_reached\\\":false,\\\"exclude_nan_labels\\\":true,\\\"verbosity\\\":20,\\\"_debug_log\\\":\\\"azureml_automl.log\\\",\\\"show_warnings\\\":false,\\\"model_explainability\\\":true,\\\"service_url\\\":null,\\\"sdk_url\\\":null,\\\"sdk_packages\\\":null,\\\"enable_onnx_compatible_models\\\":false,\\\"enable_split_onnx_featurizer_estimator_models\\\":false,\\\"vm_type\\\":\\\"STANDARD_D3_V2\\\",\\\"telemetry_verbosity\\\":20,\\\"send_telemetry\\\":true,\\\"enable_dnn\\\":false,\\\"scenario\\\":\\\"SDK-1.13.0\\\",\\\"environment_label\\\":null,\\\"save_mlflow\\\":false,\\\"force_text_dnn\\\":false,\\\"enable_feature_sweeping\\\":true,\\\"enable_early_stopping\\\":true,\\\"early_stopping_n_iters\\\":10,\\\"metrics\\\":null,\\\"enable_metric_confidence\\\":false,\\\"enable_ensembling\\\":true,\\\"enable_stack_ensembling\\\":true,\\\"ensemble_iterations\\\":15,\\\"enable_tf\\\":false,\\\"enable_subsampling\\\":null,\\\"subsample_seed\\\":null,\\\"enable_nimbusml\\\":false,\\\"enable_streaming\\\":false,\\\"force_streaming\\\":false,\\\"track_child_runs\\\":true,\\\"allowed_private_models\\\":[],\\\"label_column_name\\\":\\\"price_range\\\",\\\"weight_column_name\\\":null,\\\"cv_split_column_names\\\":null,\\\"enable_local_managed\\\":false,\\\"_local_managed_run_id\\\":null,\\\"cost_mode\\\":1,\\\"lag_length\\\":0,\\\"metric_operation\\\":\\\"maximize\\\",\\\"preprocess\\\":true}\", \"DataPrepJsonString\": \"{\\\\\\\"training_data\\\\\\\": {\\\\\\\"datasetId\\\\\\\": \\\\\\\"1ee1a8fc-d352-41b3-acf4-954b09860a8e\\\\\\\"}, \\\\\\\"datasets\\\\\\\": 0}\", \"EnableSubsampling\": null, \"runTemplate\": \"AutoML\", \"azureml.runsource\": \"automl\", \"display_task_type\": \"classification\", \"dependencies_versions\": \"{\\\"azureml-widgets\\\": \\\"1.26.0\\\", \\\"azureml-train\\\": \\\"1.26.0\\\", \\\"azureml-train-restclients-hyperdrive\\\": \\\"1.26.0\\\", \\\"azureml-train-core\\\": \\\"1.26.0\\\", \\\"azureml-train-automl\\\": \\\"1.26.0\\\", \\\"azureml-train-automl-runtime\\\": \\\"1.26.0\\\", \\\"azureml-train-automl-client\\\": \\\"1.26.0\\\", \\\"azureml-tensorboard\\\": \\\"1.26.0\\\", \\\"azureml-telemetry\\\": \\\"1.26.0\\\", \\\"azureml-sdk\\\": \\\"1.26.0\\\", \\\"azureml-samples\\\": \\\"0+unknown\\\", \\\"azureml-pipeline\\\": \\\"1.26.0\\\", \\\"azureml-pipeline-steps\\\": \\\"1.26.0\\\", \\\"azureml-pipeline-core\\\": \\\"1.26.0\\\", \\\"azureml-opendatasets\\\": \\\"1.26.0\\\", \\\"azureml-model-management-sdk\\\": \\\"1.0.1b6.post1\\\", \\\"azureml-mlflow\\\": \\\"1.26.0\\\", \\\"azureml-interpret\\\": \\\"1.26.0\\\", \\\"azureml-explain-model\\\": \\\"1.26.0\\\", \\\"azureml-defaults\\\": \\\"1.26.0\\\", \\\"azureml-dataset-runtime\\\": \\\"1.26.0\\\", \\\"azureml-dataprep\\\": \\\"2.13.2\\\", \\\"azureml-dataprep-rslex\\\": \\\"1.11.2\\\", \\\"azureml-dataprep-native\\\": \\\"32.0.0\\\", \\\"azureml-datadrift\\\": \\\"1.26.0\\\", \\\"azureml-core\\\": \\\"1.26.0\\\", \\\"azureml-contrib-services\\\": \\\"1.26.0\\\", \\\"azureml-contrib-server\\\": \\\"1.26.0\\\", \\\"azureml-contrib-reinforcementlearning\\\": \\\"1.26.0\\\", \\\"azureml-contrib-pipeline-steps\\\": \\\"1.26.0\\\", \\\"azureml-contrib-notebook\\\": \\\"1.26.0\\\", \\\"azureml-contrib-gbdt\\\": \\\"1.26.0\\\", \\\"azureml-contrib-fairness\\\": \\\"1.26.0\\\", \\\"azureml-contrib-dataset\\\": \\\"1.26.0\\\", \\\"azureml-cli-common\\\": \\\"1.26.0\\\", \\\"azureml-automl-runtime\\\": \\\"1.26.0\\\", \\\"azureml-automl-dnn-nlp\\\": \\\"1.26.0\\\", \\\"azureml-automl-core\\\": \\\"1.26.0\\\", \\\"azureml-accel-models\\\": \\\"1.26.0\\\"}\", \"_aml_system_scenario_identification\": \"Remote.Parent\", \"ClientType\": \"SDK\", \"environment_cpu_name\": \"AzureML-AutoML\", \"environment_cpu_label\": \"prod\", \"environment_gpu_name\": \"AzureML-AutoML-GPU\", \"environment_gpu_label\": \"prod\", \"root_attribution\": \"automl\", \"attribution\": \"AutoML\", \"Orchestrator\": \"AutoML\", \"CancelUri\": \"https://southcentralus.api.azureml.ms/jasmine/v1.0/subscriptions/a0a76bad-11a1-4a2d-9887-97a29122c8ed/resourceGroups/aml-quickstarts-143196/providers/Microsoft.MachineLearningServices/workspaces/quick-starts-ws-143196/experimentids/20603e67-2d98-4659-b655-94c43ed57662/cancel/AutoML_e5dc7447-e4a9-44ac-a048-0ebec61dd69e\", \"azureml.git.repository_uri\": \"https://github.com/AnshuTrivedi/Capstone-Project---Azure-Machine-Learning-Engineer.git\", \"mlflow.source.git.repoURL\": \"https://github.com/AnshuTrivedi/Capstone-Project---Azure-Machine-Learning-Engineer.git\", \"azureml.git.branch\": \"master\", \"mlflow.source.git.branch\": \"master\", \"azureml.git.commit\": \"35230dc4d7195bf271c2d178f002705f78c9c5cd\", \"mlflow.source.git.commit\": \"35230dc4d7195bf271c2d178f002705f78c9c5cd\", \"azureml.git.dirty\": \"True\", \"ClientSdkVersion\": \"1.26.0\", \"snapshotId\": \"00000000-0000-0000-0000-000000000000\", \"SetupRunId\": \"AutoML_e5dc7447-e4a9-44ac-a048-0ebec61dd69e_setup\", \"SetupRunContainerId\": \"dcid.AutoML_e5dc7447-e4a9-44ac-a048-0ebec61dd69e_setup\", \"FeaturizationRunJsonPath\": \"featurizer_container.json\", \"FeaturizationRunId\": \"AutoML_e5dc7447-e4a9-44ac-a048-0ebec61dd69e_featurize\", \"ProblemInfoJsonString\": \"{\\\"dataset_num_categorical\\\": 0, \\\"is_sparse\\\": true, \\\"subsampling\\\": false, \\\"dataset_classes\\\": 4, \\\"dataset_features\\\": 116, \\\"dataset_samples\\\": 2000, \\\"single_frequency_class_detected\\\": false}\", \"ModelExplainRunId\": \"AutoML_e5dc7447-e4a9-44ac-a048-0ebec61dd69e_ModelExplain\"}, \"tags\": {\"model_explain_run\": \"best_run\", \"_aml_system_azureml.automlComponent\": \"AutoML\", \"pipeline_id\": \"\", \"score\": \"\", \"predicted_cost\": \"\", \"fit_time\": \"\", \"training_percent\": \"\", \"iteration\": \"\", \"run_preprocessor\": \"\", \"run_algorithm\": \"\", \"automl_best_child_run_id\": \"AutoML_e5dc7447-e4a9-44ac-a048-0ebec61dd69e_19\", \"model_explain_best_run_child_id\": \"AutoML_e5dc7447-e4a9-44ac-a048-0ebec61dd69e_19\"}, \"end_time_utc\": \"2021-04-20T02:13:09.421211Z\", \"status\": \"Completed\", \"log_files\": {}, \"log_groups\": [], \"run_duration\": \"0:35:53\", \"run_number\": \"1\", \"run_queued_details\": {\"status\": \"Completed\", \"details\": null}}, \"child_runs\": [{\"run_id\": \"AutoML_e5dc7447-e4a9-44ac-a048-0ebec61dd69e_0\", \"run_number\": 5, \"metric\": null, \"status\": \"Completed\", \"run_type\": \"azureml.scriptrun\", \"training_percent\": \"100\", \"start_time\": \"2021-04-20T01:45:19.413613Z\", \"end_time\": \"2021-04-20T01:46:14.384392Z\", \"created_time\": \"2021-04-20T01:45:05.930984Z\", \"created_time_dt\": \"2021-04-20T01:45:05.930984Z\", \"duration\": \"0:01:08\", \"iteration\": \"0\", \"goal\": \"accuracy_max\", \"run_name\": \"MaxAbsScaler, LightGBM\", \"run_properties\": \"copy=True\", \"primary_metric\": 0.8985, \"best_metric\": 0.8985}, {\"run_id\": \"AutoML_e5dc7447-e4a9-44ac-a048-0ebec61dd69e_1\", \"run_number\": 6, \"metric\": null, \"status\": \"Completed\", \"run_type\": \"azureml.scriptrun\", \"training_percent\": \"100\", \"start_time\": \"2021-04-20T01:46:29.549933Z\", \"end_time\": \"2021-04-20T01:47:30.146251Z\", \"created_time\": \"2021-04-20T01:46:15.964254Z\", \"created_time_dt\": \"2021-04-20T01:46:15.964254Z\", \"duration\": \"0:01:14\", \"iteration\": \"1\", \"goal\": \"accuracy_max\", \"run_name\": \"MaxAbsScaler, XGBoostClassifier\", \"run_properties\": \"copy=True\", \"primary_metric\": 0.906, \"best_metric\": 0.906}, {\"run_id\": \"AutoML_e5dc7447-e4a9-44ac-a048-0ebec61dd69e_2\", \"run_number\": 7, \"metric\": null, \"status\": \"Completed\", \"run_type\": \"azureml.scriptrun\", \"training_percent\": \"100\", \"start_time\": \"2021-04-20T01:47:45.573098Z\", \"end_time\": \"2021-04-20T01:48:42.132308Z\", \"created_time\": \"2021-04-20T01:47:31.87947Z\", \"created_time_dt\": \"2021-04-20T01:47:31.87947Z\", \"duration\": \"0:01:10\", \"iteration\": \"2\", \"goal\": \"accuracy_max\", \"run_name\": \"MaxAbsScaler, RandomForest\", \"run_properties\": \"copy=True\", \"primary_metric\": 0.7165, \"best_metric\": 0.906}, {\"run_id\": \"AutoML_e5dc7447-e4a9-44ac-a048-0ebec61dd69e_3\", \"run_number\": 8, \"metric\": null, \"status\": \"Completed\", \"run_type\": \"azureml.scriptrun\", \"training_percent\": \"100\", \"start_time\": \"2021-04-20T01:48:58.777806Z\", \"end_time\": \"2021-04-20T01:49:57.468104Z\", \"created_time\": \"2021-04-20T01:48:45.182851Z\", \"created_time_dt\": \"2021-04-20T01:48:45.182851Z\", \"duration\": \"0:01:12\", \"iteration\": \"3\", \"goal\": \"accuracy_max\", \"run_name\": \"MaxAbsScaler, RandomForest\", \"run_properties\": \"copy=True\", \"primary_metric\": 0.6235, \"best_metric\": 0.906}, {\"run_id\": \"AutoML_e5dc7447-e4a9-44ac-a048-0ebec61dd69e_4\", \"run_number\": 9, \"metric\": null, \"status\": \"Completed\", \"run_type\": \"azureml.scriptrun\", \"training_percent\": \"100\", \"start_time\": \"2021-04-20T01:50:11.168285Z\", \"end_time\": \"2021-04-20T01:51:18.616482Z\", \"created_time\": \"2021-04-20T01:49:59.712362Z\", \"created_time_dt\": \"2021-04-20T01:49:59.712362Z\", \"duration\": \"0:01:18\", \"iteration\": \"4\", \"goal\": \"accuracy_max\", \"run_name\": \"MaxAbsScaler, RandomForest\", \"run_properties\": \"copy=True\", \"primary_metric\": 0.7215, \"best_metric\": 0.906}, {\"run_id\": \"AutoML_e5dc7447-e4a9-44ac-a048-0ebec61dd69e_5\", \"run_number\": 10, \"metric\": null, \"status\": \"Completed\", \"run_type\": \"azureml.scriptrun\", \"training_percent\": \"100\", \"start_time\": \"2021-04-20T01:51:35.794437Z\", \"end_time\": \"2021-04-20T01:52:34.582671Z\", \"created_time\": \"2021-04-20T01:51:21.640521Z\", \"created_time_dt\": \"2021-04-20T01:51:21.640521Z\", \"duration\": \"0:01:12\", \"iteration\": \"5\", \"goal\": \"accuracy_max\", \"run_name\": \"MaxAbsScaler, RandomForest\", \"run_properties\": \"copy=True\", \"primary_metric\": 0.59, \"best_metric\": 0.906}, {\"run_id\": \"AutoML_e5dc7447-e4a9-44ac-a048-0ebec61dd69e_6\", \"run_number\": 11, \"metric\": null, \"status\": \"Completed\", \"run_type\": \"azureml.scriptrun\", \"training_percent\": \"100\", \"start_time\": \"2021-04-20T01:52:49.531883Z\", \"end_time\": \"2021-04-20T01:53:52.55585Z\", \"created_time\": \"2021-04-20T01:52:37.151199Z\", \"created_time_dt\": \"2021-04-20T01:52:37.151199Z\", \"duration\": \"0:01:15\", \"iteration\": \"6\", \"goal\": \"accuracy_max\", \"run_name\": \"SparseNormalizer, XGBoostClassifier\", \"run_properties\": \"<azureml.automl.runtime.shared.model_wrappers.SparseNormalizer object at 0x7ffb38a21d68\", \"primary_metric\": 0.905, \"best_metric\": 0.906}, {\"run_id\": \"AutoML_e5dc7447-e4a9-44ac-a048-0ebec61dd69e_7\", \"run_number\": 12, \"metric\": null, \"status\": \"Completed\", \"run_type\": \"azureml.scriptrun\", \"training_percent\": \"100\", \"start_time\": \"2021-04-20T01:54:11.818332Z\", \"end_time\": \"2021-04-20T01:55:17.521318Z\", \"created_time\": \"2021-04-20T01:53:54.94175Z\", \"created_time_dt\": \"2021-04-20T01:53:54.94175Z\", \"duration\": \"0:01:22\", \"iteration\": \"7\", \"goal\": \"accuracy_max\", \"run_name\": \"MaxAbsScaler, RandomForest\", \"run_properties\": \"copy=True\", \"primary_metric\": 0.7715, \"best_metric\": 0.906}, {\"run_id\": \"AutoML_e5dc7447-e4a9-44ac-a048-0ebec61dd69e_8\", \"run_number\": 13, \"metric\": null, \"status\": \"Completed\", \"run_type\": \"azureml.scriptrun\", \"training_percent\": \"100\", \"start_time\": \"2021-04-20T01:55:32.156563Z\", \"end_time\": \"2021-04-20T01:56:30.125125Z\", \"created_time\": \"2021-04-20T01:55:20.610913Z\", \"created_time_dt\": \"2021-04-20T01:55:20.610913Z\", \"duration\": \"0:01:09\", \"iteration\": \"8\", \"goal\": \"accuracy_max\", \"run_name\": \"SparseNormalizer, LightGBM\", \"run_properties\": \"<azureml.automl.runtime.shared.model_wrappers.SparseNormalizer object at 0x7fd506698978\", \"primary_metric\": 0.851, \"best_metric\": 0.906}, {\"run_id\": \"AutoML_e5dc7447-e4a9-44ac-a048-0ebec61dd69e_9\", \"run_number\": 14, \"metric\": null, \"status\": \"Completed\", \"run_type\": \"azureml.scriptrun\", \"training_percent\": \"100\", \"start_time\": \"2021-04-20T01:56:45.66906Z\", \"end_time\": \"2021-04-20T01:57:43.977095Z\", \"created_time\": \"2021-04-20T01:56:32.341095Z\", \"created_time_dt\": \"2021-04-20T01:56:32.341095Z\", \"duration\": \"0:01:11\", \"iteration\": \"9\", \"goal\": \"accuracy_max\", \"run_name\": \"MaxAbsScaler, LogisticRegression\", \"run_properties\": \"copy=True\", \"primary_metric\": 0.7535, \"best_metric\": 0.906}, {\"run_id\": \"AutoML_e5dc7447-e4a9-44ac-a048-0ebec61dd69e_10\", \"run_number\": 15, \"metric\": null, \"status\": \"Completed\", \"run_type\": \"azureml.scriptrun\", \"training_percent\": \"100\", \"start_time\": \"2021-04-20T01:57:59.616469Z\", \"end_time\": \"2021-04-20T01:59:04.831762Z\", \"created_time\": \"2021-04-20T01:57:46.093108Z\", \"created_time_dt\": \"2021-04-20T01:57:46.093108Z\", \"duration\": \"0:01:18\", \"iteration\": \"10\", \"goal\": \"accuracy_max\", \"run_name\": \"SparseNormalizer, XGBoostClassifier\", \"run_properties\": \"<azureml.automl.runtime.shared.model_wrappers.SparseNormalizer object at 0x7f2091229e80\", \"primary_metric\": 0.8665, \"best_metric\": 0.906}, {\"run_id\": \"AutoML_e5dc7447-e4a9-44ac-a048-0ebec61dd69e_11\", \"run_number\": 16, \"metric\": null, \"status\": \"Completed\", \"run_type\": \"azureml.scriptrun\", \"training_percent\": \"100\", \"start_time\": \"2021-04-20T01:59:18.60893Z\", \"end_time\": \"2021-04-20T02:00:24.922349Z\", \"created_time\": \"2021-04-20T01:59:07.192432Z\", \"created_time_dt\": \"2021-04-20T01:59:07.192432Z\", \"duration\": \"0:01:17\", \"iteration\": \"11\", \"goal\": \"accuracy_max\", \"run_name\": \"StandardScalerWrapper, LightGBM\", \"run_properties\": \"<azureml.automl.runtime.shared.model_wrappers.StandardScalerWrapper object at 0x7f9ce8553f60\", \"primary_metric\": 0.7735, \"best_metric\": 0.906}, {\"run_id\": \"AutoML_e5dc7447-e4a9-44ac-a048-0ebec61dd69e_12\", \"run_number\": 17, \"metric\": null, \"status\": \"Completed\", \"run_type\": \"azureml.scriptrun\", \"training_percent\": \"100\", \"start_time\": \"2021-04-20T02:00:41.348683Z\", \"end_time\": \"2021-04-20T02:01:54.06463Z\", \"created_time\": \"2021-04-20T02:00:27.120101Z\", \"created_time_dt\": \"2021-04-20T02:00:27.120101Z\", \"duration\": \"0:01:26\", \"iteration\": \"12\", \"goal\": \"accuracy_max\", \"run_name\": \"MaxAbsScaler, ExtremeRandomTrees\", \"run_properties\": \"copy=True\", \"primary_metric\": 0.821, \"best_metric\": 0.906}, {\"run_id\": \"AutoML_e5dc7447-e4a9-44ac-a048-0ebec61dd69e_13\", \"run_number\": 18, \"metric\": null, \"status\": \"Completed\", \"run_type\": \"azureml.scriptrun\", \"training_percent\": \"100\", \"start_time\": \"2021-04-20T02:02:11.870721Z\", \"end_time\": \"2021-04-20T02:03:17.26874Z\", \"created_time\": \"2021-04-20T02:01:56.94371Z\", \"created_time_dt\": \"2021-04-20T02:01:56.94371Z\", \"duration\": \"0:01:20\", \"iteration\": \"13\", \"goal\": \"accuracy_max\", \"run_name\": \"SparseNormalizer, XGBoostClassifier\", \"run_properties\": \"<azureml.automl.runtime.shared.model_wrappers.SparseNormalizer object at 0x7f2290bc2da0\", \"primary_metric\": 0.8345, \"best_metric\": 0.906}, {\"run_id\": \"AutoML_e5dc7447-e4a9-44ac-a048-0ebec61dd69e_14\", \"run_number\": 19, \"metric\": null, \"status\": \"Completed\", \"run_type\": \"azureml.scriptrun\", \"training_percent\": \"100\", \"start_time\": \"2021-04-20T02:03:34.882654Z\", \"end_time\": \"2021-04-20T02:04:44.496257Z\", \"created_time\": \"2021-04-20T02:03:19.487448Z\", \"created_time_dt\": \"2021-04-20T02:03:19.487448Z\", \"duration\": \"0:01:25\", \"iteration\": \"14\", \"goal\": \"accuracy_max\", \"run_name\": \"StandardScalerWrapper, RandomForest\", \"run_properties\": \"<azureml.automl.runtime.shared.model_wrappers.StandardScalerWrapper object at 0x7f109f069b70\", \"primary_metric\": 0.7995, \"best_metric\": 0.906}, {\"run_id\": \"AutoML_e5dc7447-e4a9-44ac-a048-0ebec61dd69e_15\", \"run_number\": 20, \"metric\": null, \"status\": \"Completed\", \"run_type\": \"azureml.scriptrun\", \"training_percent\": \"100\", \"start_time\": \"2021-04-20T02:04:58.746236Z\", \"end_time\": \"2021-04-20T02:06:08.956975Z\", \"created_time\": \"2021-04-20T02:04:46.583234Z\", \"created_time_dt\": \"2021-04-20T02:04:46.583234Z\", \"duration\": \"0:01:22\", \"iteration\": \"15\", \"goal\": \"accuracy_max\", \"run_name\": \"StandardScalerWrapper, LogisticRegression\", \"run_properties\": \"<azureml.automl.runtime.shared.model_wrappers.StandardScalerWrapper object at 0x7fbb84175400\", \"primary_metric\": 0.7245, \"best_metric\": 0.906}, {\"run_id\": \"AutoML_e5dc7447-e4a9-44ac-a048-0ebec61dd69e_16\", \"run_number\": 21, \"metric\": null, \"status\": \"Completed\", \"run_type\": \"azureml.scriptrun\", \"training_percent\": \"100\", \"start_time\": \"2021-04-20T02:06:27.421078Z\", \"end_time\": \"2021-04-20T02:07:26.503867Z\", \"created_time\": \"2021-04-20T02:06:13.301599Z\", \"created_time_dt\": \"2021-04-20T02:06:13.301599Z\", \"duration\": \"0:01:13\", \"iteration\": \"16\", \"goal\": \"accuracy_max\", \"run_name\": \"SparseNormalizer, XGBoostClassifier\", \"run_properties\": \"<azureml.automl.runtime.shared.model_wrappers.SparseNormalizer object at 0x7f54d634af98\", \"primary_metric\": 0.875, \"best_metric\": 0.906}, {\"run_id\": \"AutoML_e5dc7447-e4a9-44ac-a048-0ebec61dd69e_17\", \"run_number\": 22, \"metric\": null, \"status\": \"Completed\", \"run_type\": \"azureml.scriptrun\", \"training_percent\": \"100\", \"start_time\": \"2021-04-20T02:07:44.011116Z\", \"end_time\": \"2021-04-20T02:08:53.493402Z\", \"created_time\": \"2021-04-20T02:07:29.098981Z\", \"created_time_dt\": \"2021-04-20T02:07:29.098981Z\", \"duration\": \"0:01:24\", \"iteration\": \"17\", \"goal\": \"accuracy_max\", \"run_name\": \"SparseNormalizer, LightGBM\", \"run_properties\": \"<azureml.automl.runtime.shared.model_wrappers.SparseNormalizer object at 0x7f1ade81ab70\", \"primary_metric\": 0.8935, \"best_metric\": 0.906}, {\"run_id\": \"AutoML_e5dc7447-e4a9-44ac-a048-0ebec61dd69e_18\", \"run_number\": 23, \"metric\": null, \"status\": \"Completed\", \"run_type\": \"azureml.scriptrun\", \"training_percent\": \"100\", \"start_time\": \"2021-04-20T02:09:09.00354Z\", \"end_time\": \"2021-04-20T02:10:04.160023Z\", \"created_time\": \"2021-04-20T02:08:55.288664Z\", \"created_time_dt\": \"2021-04-20T02:08:55.288664Z\", \"duration\": \"0:01:08\", \"iteration\": \"18\", \"goal\": \"accuracy_max\", \"run_name\": \"StandardScalerWrapper, XGBoostClassifier\", \"run_properties\": \"<azureml.automl.runtime.shared.model_wrappers.StandardScalerWrapper object at 0x7fbb88041128\", \"primary_metric\": 0.808, \"best_metric\": 0.906}, {\"run_id\": \"AutoML_e5dc7447-e4a9-44ac-a048-0ebec61dd69e_19\", \"run_number\": 24, \"metric\": null, \"status\": \"Completed\", \"run_type\": \"azureml.scriptrun\", \"training_percent\": \"100\", \"start_time\": \"2021-04-20T02:10:20.692623Z\", \"end_time\": \"2021-04-20T02:11:22.941846Z\", \"created_time\": \"2021-04-20T02:10:05.13175Z\", \"created_time_dt\": \"2021-04-20T02:10:05.13175Z\", \"duration\": \"0:01:17\", \"iteration\": \"19\", \"goal\": \"accuracy_max\", \"run_name\": \"VotingEnsemble\", \"run_properties\": \"classification_labels=None,\\n                              estimators=[('1',\\n                                           Pipeline(memory=None,\\n                                                    steps=[('maxabsscaler',\\n                                                            MaxAbsScaler(copy=True\", \"primary_metric\": 0.9375, \"best_metric\": 0.9375}, {\"run_id\": \"AutoML_e5dc7447-e4a9-44ac-a048-0ebec61dd69e_20\", \"run_number\": 25, \"metric\": null, \"status\": \"Completed\", \"run_type\": \"azureml.scriptrun\", \"training_percent\": \"100\", \"start_time\": \"2021-04-20T02:11:39.602487Z\", \"end_time\": \"2021-04-20T02:13:05.7685Z\", \"created_time\": \"2021-04-20T02:11:24.206362Z\", \"created_time_dt\": \"2021-04-20T02:11:24.206362Z\", \"duration\": \"0:01:41\", \"iteration\": \"20\", \"goal\": \"accuracy_max\", \"run_name\": \"StackEnsemble\", \"run_properties\": \"base_learners=[('1',\\n                                        Pipeline(memory=None,\\n                                                 steps=[('maxabsscaler',\\n                                                         MaxAbsScaler(copy=True\", \"primary_metric\": 0.935, \"best_metric\": 0.9375}], \"children_metrics\": {\"categories\": [0], \"series\": {\"norm_macro_recall\": [{\"categories\": [\"0\", \"1\", \"2\", \"3\", \"4\", \"5\", \"6\", \"7\", \"8\", \"9\", \"10\", \"11\", \"12\", \"13\", \"14\", \"15\", \"16\", \"17\", \"18\", \"19\", \"20\"], \"mode\": \"markers\", \"name\": \"norm_macro_recall\", \"stepped\": false, \"type\": \"scatter\", \"data\": [0.8646013008913341, 0.8744963126589453, 0.6231599270459858, 0.4992397272357826, 0.6282130429850146, 0.455600795741254, 0.8733878743187924, 0.6969863473132337, 0.8012416689702169, 0.6717727946408641, 0.8225702593789244, 0.6974295240471694, 0.7615617622914987, 0.7794808231869127, 0.7331993028086333, 0.6328141862770233, 0.8338328059605745, 0.8582118575352287, 0.7450936374498242, 0.9163964868393835, 0.9134571756172197]}, {\"categories\": [\"0\", \"1\", \"2\", \"3\", \"4\", \"5\", \"6\", \"7\", \"8\", \"9\", \"10\", \"11\", \"12\", \"13\", \"14\", \"15\", \"16\", \"17\", \"18\", \"19\", \"20\"], \"mode\": \"lines\", \"name\": \"norm_macro_recall_max\", \"stepped\": true, \"type\": \"scatter\", \"data\": [0.8646013008913341, 0.8744963126589453, 0.8744963126589453, 0.8744963126589453, 0.8744963126589453, 0.8744963126589453, 0.8744963126589453, 0.8744963126589453, 0.8744963126589453, 0.8744963126589453, 0.8744963126589453, 0.8744963126589453, 0.8744963126589453, 0.8744963126589453, 0.8744963126589453, 0.8744963126589453, 0.8744963126589453, 0.8744963126589453, 0.8744963126589453, 0.9163964868393835, 0.9163964868393835]}], \"precision_score_weighted\": [{\"categories\": [\"0\", \"1\", \"2\", \"3\", \"4\", \"5\", \"6\", \"7\", \"8\", \"9\", \"10\", \"11\", \"12\", \"13\", \"14\", \"15\", \"16\", \"17\", \"18\", \"19\", \"20\"], \"mode\": \"markers\", \"name\": \"precision_score_weighted\", \"stepped\": false, \"type\": \"scatter\", \"data\": [0.8987254192109728, 0.9065470287129332, 0.7109338423170267, 0.6140825309582302, 0.7148569367515581, 0.5834617140204552, 0.9053083672858195, 0.7676022760186703, 0.8508184599726419, 0.7455269447672653, 0.8674690303305089, 0.7768000908120587, 0.8174347662582757, 0.8353809231239797, 0.7985993558863571, 0.7210775542908536, 0.87706179765019, 0.8944793839427896, 0.8177755770608661, 0.9376282585231983, 0.935427671510546]}, {\"categories\": [\"0\", \"1\", \"2\", \"3\", \"4\", \"5\", \"6\", \"7\", \"8\", \"9\", \"10\", \"11\", \"12\", \"13\", \"14\", \"15\", \"16\", \"17\", \"18\", \"19\", \"20\"], \"mode\": \"lines\", \"name\": \"precision_score_weighted_max\", \"stepped\": true, \"type\": \"scatter\", \"data\": [0.8987254192109728, 0.9065470287129332, 0.9065470287129332, 0.9065470287129332, 0.9065470287129332, 0.9065470287129332, 0.9065470287129332, 0.9065470287129332, 0.9065470287129332, 0.9065470287129332, 0.9065470287129332, 0.9065470287129332, 0.9065470287129332, 0.9065470287129332, 0.9065470287129332, 0.9065470287129332, 0.9065470287129332, 0.9065470287129332, 0.9065470287129332, 0.9376282585231983, 0.9376282585231983]}], \"accuracy\": [{\"categories\": [\"0\", \"1\", \"2\", \"3\", \"4\", \"5\", \"6\", \"7\", \"8\", \"9\", \"10\", \"11\", \"12\", \"13\", \"14\", \"15\", \"16\", \"17\", \"18\", \"19\", \"20\"], \"mode\": \"markers\", \"name\": \"accuracy\", \"stepped\": false, \"type\": \"scatter\", \"data\": [0.8985, 0.906, 0.7165, 0.6235, 0.7214999999999999, 0.59, 0.905, 0.7715000000000001, 0.851, 0.7535, 0.8665, 0.7735000000000001, 0.821, 0.8345, 0.7995000000000001, 0.7244999999999999, 0.875, 0.8935000000000001, 0.808, 0.9375, 0.935]}, {\"categories\": [\"0\", \"1\", \"2\", \"3\", \"4\", \"5\", \"6\", \"7\", \"8\", \"9\", \"10\", \"11\", \"12\", \"13\", \"14\", \"15\", \"16\", \"17\", \"18\", \"19\", \"20\"], \"mode\": \"lines\", \"name\": \"accuracy_max\", \"stepped\": true, \"type\": \"scatter\", \"data\": [0.8985, 0.906, 0.906, 0.906, 0.906, 0.906, 0.906, 0.906, 0.906, 0.906, 0.906, 0.906, 0.906, 0.906, 0.906, 0.906, 0.906, 0.906, 0.906, 0.9375, 0.9375]}], \"f1_score_micro\": [{\"categories\": [\"0\", \"1\", \"2\", \"3\", \"4\", \"5\", \"6\", \"7\", \"8\", \"9\", \"10\", \"11\", \"12\", \"13\", \"14\", \"15\", \"16\", \"17\", \"18\", \"19\", \"20\"], \"mode\": \"markers\", \"name\": \"f1_score_micro\", \"stepped\": false, \"type\": \"scatter\", \"data\": [0.8985, 0.906, 0.7165, 0.6235, 0.7214999999999999, 0.59, 0.905, 0.7715000000000001, 0.8509999999999999, 0.7535, 0.8664999999999998, 0.7735000000000001, 0.8210000000000001, 0.8345, 0.7995000000000001, 0.7244999999999999, 0.875, 0.8935000000000001, 0.808, 0.9375, 0.935]}, {\"categories\": [\"0\", \"1\", \"2\", \"3\", \"4\", \"5\", \"6\", \"7\", \"8\", \"9\", \"10\", \"11\", \"12\", \"13\", \"14\", \"15\", \"16\", \"17\", \"18\", \"19\", \"20\"], \"mode\": \"lines\", \"name\": \"f1_score_micro_max\", \"stepped\": true, \"type\": \"scatter\", \"data\": [0.8985, 0.906, 0.906, 0.906, 0.906, 0.906, 0.906, 0.906, 0.906, 0.906, 0.906, 0.906, 0.906, 0.906, 0.906, 0.906, 0.906, 0.906, 0.906, 0.9375, 0.9375]}], \"recall_score_macro\": [{\"categories\": [\"0\", \"1\", \"2\", \"3\", \"4\", \"5\", \"6\", \"7\", \"8\", \"9\", \"10\", \"11\", \"12\", \"13\", \"14\", \"15\", \"16\", \"17\", \"18\", \"19\", \"20\"], \"mode\": \"markers\", \"name\": \"recall_score_macro\", \"stepped\": false, \"type\": \"scatter\", \"data\": [0.8984509756685006, 0.905872234494209, 0.7173699452844893, 0.624429795426837, 0.7211597822387609, 0.5917005968059406, 0.9050409057390945, 0.7727397604849253, 0.8509312517276628, 0.7538295959806481, 0.8669276945341934, 0.773072143035377, 0.8211713217186241, 0.8346106173901846, 0.7998994771064749, 0.7246106397077676, 0.8753746044704308, 0.8936588931514216, 0.8088202280873681, 0.9372973651295377, 0.9350928817129147]}, {\"categories\": [\"0\", \"1\", \"2\", \"3\", \"4\", \"5\", \"6\", \"7\", \"8\", \"9\", \"10\", \"11\", \"12\", \"13\", \"14\", \"15\", \"16\", \"17\", \"18\", \"19\", \"20\"], \"mode\": \"lines\", \"name\": \"recall_score_macro_max\", \"stepped\": true, \"type\": \"scatter\", \"data\": [0.8984509756685006, 0.905872234494209, 0.905872234494209, 0.905872234494209, 0.905872234494209, 0.905872234494209, 0.905872234494209, 0.905872234494209, 0.905872234494209, 0.905872234494209, 0.905872234494209, 0.905872234494209, 0.905872234494209, 0.905872234494209, 0.905872234494209, 0.905872234494209, 0.905872234494209, 0.905872234494209, 0.905872234494209, 0.9372973651295377, 0.9372973651295377]}], \"f1_score_weighted\": [{\"categories\": [\"0\", \"1\", \"2\", \"3\", \"4\", \"5\", \"6\", \"7\", \"8\", \"9\", \"10\", \"11\", \"12\", \"13\", \"14\", \"15\", \"16\", \"17\", \"18\", \"19\", \"20\"], \"mode\": \"markers\", \"name\": \"f1_score_weighted\", \"stepped\": false, \"type\": \"scatter\", \"data\": [0.8984405065216075, 0.9060260327458862, 0.7079629076312683, 0.6099889650774408, 0.7132919134623944, 0.5630272623538586, 0.9047196779034644, 0.7610015446608982, 0.84867843211154, 0.7479676778203104, 0.8661932821145238, 0.7730247423089854, 0.8162178904498774, 0.8344378332361627, 0.7950958832571101, 0.7216589536027821, 0.875122414239706, 0.893586113629232, 0.8004452639818285, 0.9372410485200529, 0.9349514233365908]}, {\"categories\": [\"0\", \"1\", \"2\", \"3\", \"4\", \"5\", \"6\", \"7\", \"8\", \"9\", \"10\", \"11\", \"12\", \"13\", \"14\", \"15\", \"16\", \"17\", \"18\", \"19\", \"20\"], \"mode\": \"lines\", \"name\": \"f1_score_weighted_max\", \"stepped\": true, \"type\": \"scatter\", \"data\": [0.8984405065216075, 0.9060260327458862, 0.9060260327458862, 0.9060260327458862, 0.9060260327458862, 0.9060260327458862, 0.9060260327458862, 0.9060260327458862, 0.9060260327458862, 0.9060260327458862, 0.9060260327458862, 0.9060260327458862, 0.9060260327458862, 0.9060260327458862, 0.9060260327458862, 0.9060260327458862, 0.9060260327458862, 0.9060260327458862, 0.9060260327458862, 0.9372410485200529, 0.9372410485200529]}], \"recall_score_micro\": [{\"categories\": [\"0\", \"1\", \"2\", \"3\", \"4\", \"5\", \"6\", \"7\", \"8\", \"9\", \"10\", \"11\", \"12\", \"13\", \"14\", \"15\", \"16\", \"17\", \"18\", \"19\", \"20\"], \"mode\": \"markers\", \"name\": \"recall_score_micro\", \"stepped\": false, \"type\": \"scatter\", \"data\": [0.8985, 0.906, 0.7165, 0.6235, 0.7214999999999999, 0.59, 0.905, 0.7715000000000001, 0.851, 0.7535, 0.8665, 0.7735000000000001, 0.821, 0.8345, 0.7995000000000001, 0.7244999999999999, 0.875, 0.8935000000000001, 0.808, 0.9375, 0.935]}, {\"categories\": [\"0\", \"1\", \"2\", \"3\", \"4\", \"5\", \"6\", \"7\", \"8\", \"9\", \"10\", \"11\", \"12\", \"13\", \"14\", \"15\", \"16\", \"17\", \"18\", \"19\", \"20\"], \"mode\": \"lines\", \"name\": \"recall_score_micro_max\", \"stepped\": true, \"type\": \"scatter\", \"data\": [0.8985, 0.906, 0.906, 0.906, 0.906, 0.906, 0.906, 0.906, 0.906, 0.906, 0.906, 0.906, 0.906, 0.906, 0.906, 0.906, 0.906, 0.906, 0.906, 0.9375, 0.9375]}], \"average_precision_score_weighted\": [{\"categories\": [\"0\", \"1\", \"2\", \"3\", \"4\", \"5\", \"6\", \"7\", \"8\", \"9\", \"10\", \"11\", \"12\", \"13\", \"14\", \"15\", \"16\", \"17\", \"18\", \"19\", \"20\"], \"mode\": \"markers\", \"name\": \"average_precision_score_weighted\", \"stepped\": false, \"type\": \"scatter\", \"data\": [0.9641199491260515, 0.9550023835079712, 0.7563741246550154, 0.6553535053114112, 0.7642042852738464, 0.6003691907210178, 0.968645502442119, 0.8247368604242771, 0.9287332930897891, 0.7586716028539622, 0.9313195513227991, 0.8295182248889648, 0.8919033544459501, 0.8770701418430844, 0.8459346870741316, 0.7800288746282584, 0.9488537438015928, 0.9631975217659658, 0.8393780292617524, 0.981582048420412, 0.9841839979834671]}, {\"categories\": [\"0\", \"1\", \"2\", \"3\", \"4\", \"5\", \"6\", \"7\", \"8\", \"9\", \"10\", \"11\", \"12\", \"13\", \"14\", \"15\", \"16\", \"17\", \"18\", \"19\", \"20\"], \"mode\": \"lines\", \"name\": \"average_precision_score_weighted_max\", \"stepped\": true, \"type\": \"scatter\", \"data\": [0.9641199491260515, 0.9641199491260515, 0.9641199491260515, 0.9641199491260515, 0.9641199491260515, 0.9641199491260515, 0.968645502442119, 0.968645502442119, 0.968645502442119, 0.968645502442119, 0.968645502442119, 0.968645502442119, 0.968645502442119, 0.968645502442119, 0.968645502442119, 0.968645502442119, 0.968645502442119, 0.968645502442119, 0.968645502442119, 0.981582048420412, 0.9841839979834671]}], \"AUC_macro\": [{\"categories\": [\"0\", \"1\", \"2\", \"3\", \"4\", \"5\", \"6\", \"7\", \"8\", \"9\", \"10\", \"11\", \"12\", \"13\", \"14\", \"15\", \"16\", \"17\", \"18\", \"19\", \"20\"], \"mode\": \"markers\", \"name\": \"AUC_macro\", \"stepped\": false, \"type\": \"scatter\", \"data\": [0.9879162221118012, 0.9861270799039417, 0.9070788733487498, 0.8485750392392073, 0.9063047530289137, 0.8346083866119933, 0.988017953999837, 0.931029296619582, 0.9723504167614059, 0.9006776231249771, 0.9751166377736773, 0.9423924643792188, 0.961393761051327, 0.958257924934544, 0.9427936925493388, 0.9204144718759072, 0.9811786935735587, 0.9860433419923573, 0.9444944186596045, 0.9936597163698846, 0.9943619784442812]}, {\"categories\": [\"0\", \"1\", \"2\", \"3\", \"4\", \"5\", \"6\", \"7\", \"8\", \"9\", \"10\", \"11\", \"12\", \"13\", \"14\", \"15\", \"16\", \"17\", \"18\", \"19\", \"20\"], \"mode\": \"lines\", \"name\": \"AUC_macro_max\", \"stepped\": true, \"type\": \"scatter\", \"data\": [0.9879162221118012, 0.9879162221118012, 0.9879162221118012, 0.9879162221118012, 0.9879162221118012, 0.9879162221118012, 0.988017953999837, 0.988017953999837, 0.988017953999837, 0.988017953999837, 0.988017953999837, 0.988017953999837, 0.988017953999837, 0.988017953999837, 0.988017953999837, 0.988017953999837, 0.988017953999837, 0.988017953999837, 0.988017953999837, 0.9936597163698846, 0.9943619784442812]}], \"matthews_correlation\": [{\"categories\": [\"0\", \"1\", \"2\", \"3\", \"4\", \"5\", \"6\", \"7\", \"8\", \"9\", \"10\", \"11\", \"12\", \"13\", \"14\", \"15\", \"16\", \"17\", \"18\", \"19\", \"20\"], \"mode\": \"markers\", \"name\": \"matthews_correlation\", \"stepped\": false, \"type\": \"scatter\", \"data\": [0.8646771595670701, 0.8747379140167517, 0.6250645067478703, 0.501855259116398, 0.6313562883169368, 0.46497138399427285, 0.8735402908654972, 0.7002194872853236, 0.8026198462490847, 0.672166101074214, 0.8224229044374259, 0.6991502765304289, 0.7630867290570869, 0.7795540345421652, 0.7348364412884386, 0.6332342195627675, 0.8338383161030212, 0.8581834448235445, 0.7506280292866787, 0.9168088244657683, 0.913453782160784]}, {\"categories\": [\"0\", \"1\", \"2\", \"3\", \"4\", \"5\", \"6\", \"7\", \"8\", \"9\", \"10\", \"11\", \"12\", \"13\", \"14\", \"15\", \"16\", \"17\", \"18\", \"19\", \"20\"], \"mode\": \"lines\", \"name\": \"matthews_correlation_max\", \"stepped\": true, \"type\": \"scatter\", \"data\": [0.8646771595670701, 0.8747379140167517, 0.8747379140167517, 0.8747379140167517, 0.8747379140167517, 0.8747379140167517, 0.8747379140167517, 0.8747379140167517, 0.8747379140167517, 0.8747379140167517, 0.8747379140167517, 0.8747379140167517, 0.8747379140167517, 0.8747379140167517, 0.8747379140167517, 0.8747379140167517, 0.8747379140167517, 0.8747379140167517, 0.8747379140167517, 0.9168088244657683, 0.9168088244657683]}], \"AUC_micro\": [{\"categories\": [\"0\", \"1\", \"2\", \"3\", \"4\", \"5\", \"6\", \"7\", \"8\", \"9\", \"10\", \"11\", \"12\", \"13\", \"14\", \"15\", \"16\", \"17\", \"18\", \"19\", \"20\"], \"mode\": \"markers\", \"name\": \"AUC_micro\", \"stepped\": false, \"type\": \"scatter\", \"data\": [0.989266, 0.987924, 0.917486, 0.8629246666666668, 0.9171630000000001, 0.8491023333333334, 0.9887106666666667, 0.93538, 0.97416, 0.9246236666666665, 0.977658, 0.9468333333333333, 0.9626629999999999, 0.9626506666666665, 0.9478816666666667, 0.9321416666666666, 0.9830786666666667, 0.9874903333333334, 0.9552703333333332, 0.9943833333333334, 0.9947046666666667]}, {\"categories\": [\"0\", \"1\", \"2\", \"3\", \"4\", \"5\", \"6\", \"7\", \"8\", \"9\", \"10\", \"11\", \"12\", \"13\", \"14\", \"15\", \"16\", \"17\", \"18\", \"19\", \"20\"], \"mode\": \"lines\", \"name\": \"AUC_micro_max\", \"stepped\": true, \"type\": \"scatter\", \"data\": [0.989266, 0.989266, 0.989266, 0.989266, 0.989266, 0.989266, 0.989266, 0.989266, 0.989266, 0.989266, 0.989266, 0.989266, 0.989266, 0.989266, 0.989266, 0.989266, 0.989266, 0.989266, 0.989266, 0.9943833333333334, 0.9947046666666667]}], \"average_precision_score_macro\": [{\"categories\": [\"0\", \"1\", \"2\", \"3\", \"4\", \"5\", \"6\", \"7\", \"8\", \"9\", \"10\", \"11\", \"12\", \"13\", \"14\", \"15\", \"16\", \"17\", \"18\", \"19\", \"20\"], \"mode\": \"markers\", \"name\": \"average_precision_score_macro\", \"stepped\": false, \"type\": \"scatter\", \"data\": [0.9641444394479142, 0.9550740459953099, 0.7565724413532355, 0.656477881926256, 0.7643145060852323, 0.6010690384177688, 0.9685835926981239, 0.8246728996358572, 0.9284161261159968, 0.7585968656539773, 0.9315252632920192, 0.8291709713487682, 0.8916498231419213, 0.8766233437032345, 0.8456356939448295, 0.7797556739757598, 0.9488690113361559, 0.9631341716707733, 0.8393415957082048, 0.9815599942815594, 0.9841259867389869]}, {\"categories\": [\"0\", \"1\", \"2\", \"3\", \"4\", \"5\", \"6\", \"7\", \"8\", \"9\", \"10\", \"11\", \"12\", \"13\", \"14\", \"15\", \"16\", \"17\", \"18\", \"19\", \"20\"], \"mode\": \"lines\", \"name\": \"average_precision_score_macro_max\", \"stepped\": true, \"type\": \"scatter\", \"data\": [0.9641444394479142, 0.9641444394479142, 0.9641444394479142, 0.9641444394479142, 0.9641444394479142, 0.9641444394479142, 0.9685835926981239, 0.9685835926981239, 0.9685835926981239, 0.9685835926981239, 0.9685835926981239, 0.9685835926981239, 0.9685835926981239, 0.9685835926981239, 0.9685835926981239, 0.9685835926981239, 0.9685835926981239, 0.9685835926981239, 0.9685835926981239, 0.9815599942815594, 0.9841259867389869]}], \"recall_score_weighted\": [{\"categories\": [\"0\", \"1\", \"2\", \"3\", \"4\", \"5\", \"6\", \"7\", \"8\", \"9\", \"10\", \"11\", \"12\", \"13\", \"14\", \"15\", \"16\", \"17\", \"18\", \"19\", \"20\"], \"mode\": \"markers\", \"name\": \"recall_score_weighted\", \"stepped\": false, \"type\": \"scatter\", \"data\": [0.8985, 0.906, 0.7165, 0.6235, 0.7214999999999999, 0.59, 0.905, 0.7715000000000001, 0.851, 0.7535, 0.8665, 0.7735000000000001, 0.821, 0.8345, 0.7995000000000001, 0.7244999999999999, 0.875, 0.8935000000000001, 0.808, 0.9375, 0.935]}, {\"categories\": [\"0\", \"1\", \"2\", \"3\", \"4\", \"5\", \"6\", \"7\", \"8\", \"9\", \"10\", \"11\", \"12\", \"13\", \"14\", \"15\", \"16\", \"17\", \"18\", \"19\", \"20\"], \"mode\": \"lines\", \"name\": \"recall_score_weighted_max\", \"stepped\": true, \"type\": \"scatter\", \"data\": [0.8985, 0.906, 0.906, 0.906, 0.906, 0.906, 0.906, 0.906, 0.906, 0.906, 0.906, 0.906, 0.906, 0.906, 0.906, 0.906, 0.906, 0.906, 0.906, 0.9375, 0.9375]}], \"weighted_accuracy\": [{\"categories\": [\"0\", \"1\", \"2\", \"3\", \"4\", \"5\", \"6\", \"7\", \"8\", \"9\", \"10\", \"11\", \"12\", \"13\", \"14\", \"15\", \"16\", \"17\", \"18\", \"19\", \"20\"], \"mode\": \"markers\", \"name\": \"weighted_accuracy\", \"stepped\": false, \"type\": \"scatter\", \"data\": [0.8985578380640419, 0.9061372479018999, 0.7157050026252807, 0.6226249403547343, 0.7219199129522773, 0.5884032214189925, 0.9049777329647262, 0.7703210935072021, 0.8511270652810399, 0.7532713203560997, 0.8660929474285811, 0.7739370690253986, 0.820893225100895, 0.8344129828623665, 0.7991352392835867, 0.7244692617311796, 0.8746498012170533, 0.8933559613387705, 0.8072313888862566, 0.9377126255665977, 0.9349188419428087]}, {\"categories\": [\"0\", \"1\", \"2\", \"3\", \"4\", \"5\", \"6\", \"7\", \"8\", \"9\", \"10\", \"11\", \"12\", \"13\", \"14\", \"15\", \"16\", \"17\", \"18\", \"19\", \"20\"], \"mode\": \"lines\", \"name\": \"weighted_accuracy_max\", \"stepped\": true, \"type\": \"scatter\", \"data\": [0.8985578380640419, 0.9061372479018999, 0.9061372479018999, 0.9061372479018999, 0.9061372479018999, 0.9061372479018999, 0.9061372479018999, 0.9061372479018999, 0.9061372479018999, 0.9061372479018999, 0.9061372479018999, 0.9061372479018999, 0.9061372479018999, 0.9061372479018999, 0.9061372479018999, 0.9061372479018999, 0.9061372479018999, 0.9061372479018999, 0.9061372479018999, 0.9377126255665977, 0.9377126255665977]}], \"average_precision_score_micro\": [{\"categories\": [\"0\", \"1\", \"2\", \"3\", \"4\", \"5\", \"6\", \"7\", \"8\", \"9\", \"10\", \"11\", \"12\", \"13\", \"14\", \"15\", \"16\", \"17\", \"18\", \"19\", \"20\"], \"mode\": \"markers\", \"name\": \"average_precision_score_micro\", \"stepped\": false, \"type\": \"scatter\", \"data\": [0.9704069574877868, 0.9662739499705985, 0.7892691104304621, 0.6966765136559931, 0.8001073958129531, 0.6365042273804309, 0.9702947833339751, 0.84735294957818, 0.9301627224123328, 0.7647136779171898, 0.9393841877779322, 0.8555474583400728, 0.8955362204902698, 0.9004820022293256, 0.8709346320788528, 0.8204734054124072, 0.9536535757648437, 0.9659282547427797, 0.8817134095697712, 0.9836532799755314, 0.9847681412825076]}, {\"categories\": [\"0\", \"1\", \"2\", \"3\", \"4\", \"5\", \"6\", \"7\", \"8\", \"9\", \"10\", \"11\", \"12\", \"13\", \"14\", \"15\", \"16\", \"17\", \"18\", \"19\", \"20\"], \"mode\": \"lines\", \"name\": \"average_precision_score_micro_max\", \"stepped\": true, \"type\": \"scatter\", \"data\": [0.9704069574877868, 0.9704069574877868, 0.9704069574877868, 0.9704069574877868, 0.9704069574877868, 0.9704069574877868, 0.9704069574877868, 0.9704069574877868, 0.9704069574877868, 0.9704069574877868, 0.9704069574877868, 0.9704069574877868, 0.9704069574877868, 0.9704069574877868, 0.9704069574877868, 0.9704069574877868, 0.9704069574877868, 0.9704069574877868, 0.9704069574877868, 0.9836532799755314, 0.9847681412825076]}], \"log_loss\": [{\"categories\": [\"0\", \"1\", \"2\", \"3\", \"4\", \"5\", \"6\", \"7\", \"8\", \"9\", \"10\", \"11\", \"12\", \"13\", \"14\", \"15\", \"16\", \"17\", \"18\", \"19\", \"20\"], \"mode\": \"markers\", \"name\": \"log_loss\", \"stepped\": false, \"type\": \"scatter\", \"data\": [0.23914307028577686, 0.2632915923336423, 0.9517575748072142, 1.1705238960373423, 1.0891078327086734, 1.10252658729432, 0.31772783752625167, 1.10579116875859, 0.47918112263556184, 0.6648046250793963, 0.713665840916829, 1.1167292241244582, 0.8177206953919087, 0.51709289330137, 0.7878331531380276, 0.6351303992334599, 0.4373498265713236, 0.28852069353720666, 0.9791020389340601, 0.5014385077550394, 0.2532888371800253]}, {\"categories\": [\"0\", \"1\", \"2\", \"3\", \"4\", \"5\", \"6\", \"7\", \"8\", \"9\", \"10\", \"11\", \"12\", \"13\", \"14\", \"15\", \"16\", \"17\", \"18\", \"19\", \"20\"], \"mode\": \"lines\", \"name\": \"log_loss_min\", \"stepped\": true, \"type\": \"scatter\", \"data\": [0.23914307028577686, 0.23914307028577686, 0.23914307028577686, 0.23914307028577686, 0.23914307028577686, 0.23914307028577686, 0.23914307028577686, 0.23914307028577686, 0.23914307028577686, 0.23914307028577686, 0.23914307028577686, 0.23914307028577686, 0.23914307028577686, 0.23914307028577686, 0.23914307028577686, 0.23914307028577686, 0.23914307028577686, 0.23914307028577686, 0.23914307028577686, 0.23914307028577686, 0.23914307028577686]}], \"balanced_accuracy\": [{\"categories\": [\"0\", \"1\", \"2\", \"3\", \"4\", \"5\", \"6\", \"7\", \"8\", \"9\", \"10\", \"11\", \"12\", \"13\", \"14\", \"15\", \"16\", \"17\", \"18\", \"19\", \"20\"], \"mode\": \"markers\", \"name\": \"balanced_accuracy\", \"stepped\": false, \"type\": \"scatter\", \"data\": [0.8984509756685006, 0.905872234494209, 0.7173699452844893, 0.624429795426837, 0.7211597822387609, 0.5917005968059406, 0.9050409057390945, 0.7727397604849253, 0.8509312517276628, 0.7538295959806481, 0.8669276945341934, 0.773072143035377, 0.8211713217186241, 0.8346106173901846, 0.7998994771064749, 0.7246106397077676, 0.8753746044704308, 0.8936588931514216, 0.8088202280873681, 0.9372973651295377, 0.9350928817129147]}, {\"categories\": [\"0\", \"1\", \"2\", \"3\", \"4\", \"5\", \"6\", \"7\", \"8\", \"9\", \"10\", \"11\", \"12\", \"13\", \"14\", \"15\", \"16\", \"17\", \"18\", \"19\", \"20\"], \"mode\": \"lines\", \"name\": \"balanced_accuracy_max\", \"stepped\": true, \"type\": \"scatter\", \"data\": [0.8984509756685006, 0.905872234494209, 0.905872234494209, 0.905872234494209, 0.905872234494209, 0.905872234494209, 0.905872234494209, 0.905872234494209, 0.905872234494209, 0.905872234494209, 0.905872234494209, 0.905872234494209, 0.905872234494209, 0.905872234494209, 0.905872234494209, 0.905872234494209, 0.905872234494209, 0.905872234494209, 0.905872234494209, 0.9372973651295377, 0.9372973651295377]}], \"precision_score_micro\": [{\"categories\": [\"0\", \"1\", \"2\", \"3\", \"4\", \"5\", \"6\", \"7\", \"8\", \"9\", \"10\", \"11\", \"12\", \"13\", \"14\", \"15\", \"16\", \"17\", \"18\", \"19\", \"20\"], \"mode\": \"markers\", \"name\": \"precision_score_micro\", \"stepped\": false, \"type\": \"scatter\", \"data\": [0.8985, 0.906, 0.7165, 0.6235, 0.7214999999999999, 0.59, 0.905, 0.7715000000000001, 0.851, 0.7535, 0.8665, 0.7735000000000001, 0.821, 0.8345, 0.7995000000000001, 0.7244999999999999, 0.875, 0.8935000000000001, 0.808, 0.9375, 0.935]}, {\"categories\": [\"0\", \"1\", \"2\", \"3\", \"4\", \"5\", \"6\", \"7\", \"8\", \"9\", \"10\", \"11\", \"12\", \"13\", \"14\", \"15\", \"16\", \"17\", \"18\", \"19\", \"20\"], \"mode\": \"lines\", \"name\": \"precision_score_micro_max\", \"stepped\": true, \"type\": \"scatter\", \"data\": [0.8985, 0.906, 0.906, 0.906, 0.906, 0.906, 0.906, 0.906, 0.906, 0.906, 0.906, 0.906, 0.906, 0.906, 0.906, 0.906, 0.906, 0.906, 0.906, 0.9375, 0.9375]}], \"f1_score_macro\": [{\"categories\": [\"0\", \"1\", \"2\", \"3\", \"4\", \"5\", \"6\", \"7\", \"8\", \"9\", \"10\", \"11\", \"12\", \"13\", \"14\", \"15\", \"16\", \"17\", \"18\", \"19\", \"20\"], \"mode\": \"markers\", \"name\": \"f1_score_macro\", \"stepped\": false, \"type\": \"scatter\", \"data\": [0.8982967765151233, 0.9057367366680692, 0.7087629096567888, 0.6110864434965368, 0.7125377707040863, 0.5642944599141099, 0.904486182895276, 0.7613856286672057, 0.84839890795244, 0.7478402736608731, 0.8661907336020918, 0.7725882996537297, 0.8161665011368886, 0.8340625541064244, 0.7951178997821999, 0.7213146530382996, 0.8750830028969495, 0.8934824539451354, 0.8006700958897788, 0.9370929842806404, 0.9348024823643171]}, {\"categories\": [\"0\", \"1\", \"2\", \"3\", \"4\", \"5\", \"6\", \"7\", \"8\", \"9\", \"10\", \"11\", \"12\", \"13\", \"14\", \"15\", \"16\", \"17\", \"18\", \"19\", \"20\"], \"mode\": \"lines\", \"name\": \"f1_score_macro_max\", \"stepped\": true, \"type\": \"scatter\", \"data\": [0.8982967765151233, 0.9057367366680692, 0.9057367366680692, 0.9057367366680692, 0.9057367366680692, 0.9057367366680692, 0.9057367366680692, 0.9057367366680692, 0.9057367366680692, 0.9057367366680692, 0.9057367366680692, 0.9057367366680692, 0.9057367366680692, 0.9057367366680692, 0.9057367366680692, 0.9057367366680692, 0.9057367366680692, 0.9057367366680692, 0.9057367366680692, 0.9370929842806404, 0.9370929842806404]}], \"precision_score_macro\": [{\"categories\": [\"0\", \"1\", \"2\", \"3\", \"4\", \"5\", \"6\", \"7\", \"8\", \"9\", \"10\", \"11\", \"12\", \"13\", \"14\", \"15\", \"16\", \"17\", \"18\", \"19\", \"20\"], \"mode\": \"markers\", \"name\": \"precision_score_macro\", \"stepped\": false, \"type\": \"scatter\", \"data\": [0.8984842592441928, 0.906101870581876, 0.7115500490397708, 0.6153879608210003, 0.713846224817521, 0.5838538966752398, 0.9047964329534675, 0.7669146409651946, 0.8503050739149065, 0.7449656470286141, 0.867020819380316, 0.776329184088882, 0.8171330111191473, 0.8344974013784446, 0.7981465293750838, 0.7202827428695033, 0.8765887101470216, 0.894112909224495, 0.8171527772098734, 0.9375269192742518, 0.9350267520368383]}, {\"categories\": [\"0\", \"1\", \"2\", \"3\", \"4\", \"5\", \"6\", \"7\", \"8\", \"9\", \"10\", \"11\", \"12\", \"13\", \"14\", \"15\", \"16\", \"17\", \"18\", \"19\", \"20\"], \"mode\": \"lines\", \"name\": \"precision_score_macro_max\", \"stepped\": true, \"type\": \"scatter\", \"data\": [0.8984842592441928, 0.906101870581876, 0.906101870581876, 0.906101870581876, 0.906101870581876, 0.906101870581876, 0.906101870581876, 0.906101870581876, 0.906101870581876, 0.906101870581876, 0.906101870581876, 0.906101870581876, 0.906101870581876, 0.906101870581876, 0.906101870581876, 0.906101870581876, 0.906101870581876, 0.906101870581876, 0.906101870581876, 0.9375269192742518, 0.9375269192742518]}], \"AUC_weighted\": [{\"categories\": [\"0\", \"1\", \"2\", \"3\", \"4\", \"5\", \"6\", \"7\", \"8\", \"9\", \"10\", \"11\", \"12\", \"13\", \"14\", \"15\", \"16\", \"17\", \"18\", \"19\", \"20\"], \"mode\": \"markers\", \"name\": \"AUC_weighted\", \"stepped\": false, \"type\": \"scatter\", \"data\": [0.9878667124230691, 0.9860830482780152, 0.9068034368001472, 0.8478688867669291, 0.906280367488032, 0.8340513333730833, 0.9879992333897005, 0.9310050053523855, 0.9723985815501176, 0.9005893823950127, 0.9750196133058373, 0.9424536654604698, 0.9614397200648106, 0.9582840413154189, 0.9428950542607979, 0.9204097240430974, 0.9811434194250728, 0.9860386108222179, 0.9443853887198937, 0.9936656276629385, 0.9943792865886805]}, {\"categories\": [\"0\", \"1\", \"2\", \"3\", \"4\", \"5\", \"6\", \"7\", \"8\", \"9\", \"10\", \"11\", \"12\", \"13\", \"14\", \"15\", \"16\", \"17\", \"18\", \"19\", \"20\"], \"mode\": \"lines\", \"name\": \"AUC_weighted_max\", \"stepped\": true, \"type\": \"scatter\", \"data\": [0.9878667124230691, 0.9878667124230691, 0.9878667124230691, 0.9878667124230691, 0.9878667124230691, 0.9878667124230691, 0.9879992333897005, 0.9879992333897005, 0.9879992333897005, 0.9879992333897005, 0.9879992333897005, 0.9879992333897005, 0.9879992333897005, 0.9879992333897005, 0.9879992333897005, 0.9879992333897005, 0.9879992333897005, 0.9879992333897005, 0.9879992333897005, 0.9936656276629385, 0.9943792865886805]}]}, \"metricName\": null, \"primaryMetricName\": \"accuracy\", \"showLegend\": false}, \"run_metrics\": [{\"name\": \"experiment_status\", \"run_id\": \"AutoML_e5dc7447-e4a9-44ac-a048-0ebec61dd69e\", \"categories\": [0, 1, 2, 3, 4, 5, 6, 7, 8, 9, 10, 11, 12, 13], \"series\": [{\"data\": [\"DatasetEvaluation\", \"FeaturesGeneration\", \"DatasetFeaturization\", \"DatasetFeaturizationCompleted\", \"DatasetCrossValidationSplit\", \"ModelSelection\", \"BestRunExplainModel\", \"ModelExplanationDataSetSetup\", \"PickSurrogateModel\", \"EngineeredFeatureExplanations\", \"EngineeredFeatureExplanations\", \"RawFeaturesExplanations\", \"RawFeaturesExplanations\", \"BestRunExplainModel\"]}]}, {\"name\": \"experiment_status_description\", \"run_id\": \"AutoML_e5dc7447-e4a9-44ac-a048-0ebec61dd69e\", \"categories\": [0, 1, 2, 3, 4, 5, 6, 7, 8, 9, 10, 11, 12, 13], \"series\": [{\"data\": [\"Gathering dataset statistics.\", \"Generating features for the dataset.\", \"Beginning to fit featurizers and featurize the dataset.\", \"Completed fit featurizers and featurizing the dataset.\", \"Generating individually featurized CV splits.\", \"Beginning model selection.\", \"Best run model explanations started\", \"Model explanations data setup completed\", \"Choosing LightGBM as the surrogate model for explanations\", \"Computation of engineered features started\", \"Computation of engineered features completed\", \"Computation of raw features started\", \"Computation of raw features completed\", \"Best run model explanations completed\"]}]}, {\"name\": \"log_loss\", \"run_id\": \"AutoML_e5dc7447-e4a9-44ac-a048-0ebec61dd69e\", \"categories\": [0], \"series\": [{\"data\": [0.5014385077550394]}]}, {\"name\": \"f1_score_micro\", \"run_id\": \"AutoML_e5dc7447-e4a9-44ac-a048-0ebec61dd69e\", \"categories\": [0], \"series\": [{\"data\": [0.9375]}]}, {\"name\": \"average_precision_score_weighted\", \"run_id\": \"AutoML_e5dc7447-e4a9-44ac-a048-0ebec61dd69e\", \"categories\": [0], \"series\": [{\"data\": [0.981582048420412]}]}, {\"name\": \"weighted_accuracy\", \"run_id\": \"AutoML_e5dc7447-e4a9-44ac-a048-0ebec61dd69e\", \"categories\": [0], \"series\": [{\"data\": [0.9377126255665977]}]}, {\"name\": \"recall_score_micro\", \"run_id\": \"AutoML_e5dc7447-e4a9-44ac-a048-0ebec61dd69e\", \"categories\": [0], \"series\": [{\"data\": [0.9375]}]}, {\"name\": \"precision_score_micro\", \"run_id\": \"AutoML_e5dc7447-e4a9-44ac-a048-0ebec61dd69e\", \"categories\": [0], \"series\": [{\"data\": [0.9375]}]}, {\"name\": \"recall_score_weighted\", \"run_id\": \"AutoML_e5dc7447-e4a9-44ac-a048-0ebec61dd69e\", \"categories\": [0], \"series\": [{\"data\": [0.9375]}]}, {\"name\": \"recall_score_macro\", \"run_id\": \"AutoML_e5dc7447-e4a9-44ac-a048-0ebec61dd69e\", \"categories\": [0], \"series\": [{\"data\": [0.9372973651295377]}]}, {\"name\": \"f1_score_macro\", \"run_id\": \"AutoML_e5dc7447-e4a9-44ac-a048-0ebec61dd69e\", \"categories\": [0], \"series\": [{\"data\": [0.9370929842806404]}]}, {\"name\": \"AUC_weighted\", \"run_id\": \"AutoML_e5dc7447-e4a9-44ac-a048-0ebec61dd69e\", \"categories\": [0], \"series\": [{\"data\": [0.9936656276629385]}]}, {\"name\": \"f1_score_weighted\", \"run_id\": \"AutoML_e5dc7447-e4a9-44ac-a048-0ebec61dd69e\", \"categories\": [0], \"series\": [{\"data\": [0.9372410485200529]}]}, {\"name\": \"AUC_micro\", \"run_id\": \"AutoML_e5dc7447-e4a9-44ac-a048-0ebec61dd69e\", \"categories\": [0], \"series\": [{\"data\": [0.9943833333333334]}]}, {\"name\": \"matthews_correlation\", \"run_id\": \"AutoML_e5dc7447-e4a9-44ac-a048-0ebec61dd69e\", \"categories\": [0], \"series\": [{\"data\": [0.9168088244657683]}]}, {\"name\": \"precision_score_macro\", \"run_id\": \"AutoML_e5dc7447-e4a9-44ac-a048-0ebec61dd69e\", \"categories\": [0], \"series\": [{\"data\": [0.9375269192742518]}]}, {\"name\": \"norm_macro_recall\", \"run_id\": \"AutoML_e5dc7447-e4a9-44ac-a048-0ebec61dd69e\", \"categories\": [0], \"series\": [{\"data\": [0.9163964868393835]}]}, {\"name\": \"AUC_macro\", \"run_id\": \"AutoML_e5dc7447-e4a9-44ac-a048-0ebec61dd69e\", \"categories\": [0], \"series\": [{\"data\": [0.9936597163698846]}]}, {\"name\": \"average_precision_score_micro\", \"run_id\": \"AutoML_e5dc7447-e4a9-44ac-a048-0ebec61dd69e\", \"categories\": [0], \"series\": [{\"data\": [0.9836532799755314]}]}, {\"name\": \"precision_score_weighted\", \"run_id\": \"AutoML_e5dc7447-e4a9-44ac-a048-0ebec61dd69e\", \"categories\": [0], \"series\": [{\"data\": [0.9376282585231983]}]}, {\"name\": \"average_precision_score_macro\", \"run_id\": \"AutoML_e5dc7447-e4a9-44ac-a048-0ebec61dd69e\", \"categories\": [0], \"series\": [{\"data\": [0.9815599942815594]}]}, {\"name\": \"balanced_accuracy\", \"run_id\": \"AutoML_e5dc7447-e4a9-44ac-a048-0ebec61dd69e\", \"categories\": [0], \"series\": [{\"data\": [0.9372973651295377]}]}, {\"name\": \"accuracy\", \"run_id\": \"AutoML_e5dc7447-e4a9-44ac-a048-0ebec61dd69e\", \"categories\": [0], \"series\": [{\"data\": [0.9375]}]}], \"run_logs\": \"\\nRun is completed.\", \"graph\": {}, \"widget_settings\": {\"childWidgetDisplay\": \"popup\", \"send_telemetry\": false, \"log_level\": \"INFO\", \"sdk_version\": \"1.26.0\"}, \"loading\": false}"
          },
          "metadata": {}
        },
        {
          "output_type": "display_data",
          "data": {
            "text/plain": "<IPython.core.display.HTML object>",
            "text/html": "<table style=\"width:100%\"><tr><th>Experiment</th><th>Id</th><th>Type</th><th>Status</th><th>Details Page</th><th>Docs Page</th></tr><tr><td>capstone_automl</td><td>AutoML_e5dc7447-e4a9-44ac-a048-0ebec61dd69e</td><td>automl</td><td>NotStarted</td><td><a href=\"https://ml.azure.com/runs/AutoML_e5dc7447-e4a9-44ac-a048-0ebec61dd69e?wsid=/subscriptions/a0a76bad-11a1-4a2d-9887-97a29122c8ed/resourcegroups/aml-quickstarts-143196/workspaces/quick-starts-ws-143196&amp;tid=660b3398-b80e-49d2-bc5b-ac1dc93b5254\" target=\"_blank\" rel=\"noopener\">Link to Azure Machine Learning studio</a></td><td><a href=\"https://docs.microsoft.com/en-us/python/api/overview/azure/ml/intro?view=azure-ml-py\" target=\"_blank\" rel=\"noopener\">Link to Documentation</a></td></tr></table>"
          },
          "metadata": {}
        },
        {
          "output_type": "stream",
          "name": "stdout",
          "text": [
            "\n",
            "Current status: FeaturesGeneration. Generating features for the dataset.\n",
            "Current status: DatasetCrossValidationSplit. Generating individually featurized CV splits.\n",
            "Current status: ModelSelection. Beginning model selection.\n",
            "\n",
            "****************************************************************************************************\n",
            "DATA GUARDRAILS: \n",
            "\n",
            "TYPE:         Class balancing detection\n",
            "STATUS:       PASSED\n",
            "DESCRIPTION:  Your inputs were analyzed, and all classes are balanced in your training data.\n",
            "              Learn more about imbalanced data: https://aka.ms/AutomatedMLImbalancedData\n",
            "\n",
            "****************************************************************************************************\n",
            "\n",
            "TYPE:         Missing feature values imputation\n",
            "STATUS:       PASSED\n",
            "DESCRIPTION:  No feature missing values were detected in the training data.\n",
            "              Learn more about missing value imputation: https://aka.ms/AutomatedMLFeaturization\n",
            "\n",
            "****************************************************************************************************\n",
            "\n",
            "TYPE:         High cardinality feature detection\n",
            "STATUS:       PASSED\n",
            "DESCRIPTION:  Your inputs were analyzed, and no high cardinality features were detected.\n",
            "              Learn more about high cardinality feature handling: https://aka.ms/AutomatedMLFeaturization\n",
            "\n",
            "****************************************************************************************************\n",
            "\n",
            "****************************************************************************************************\n",
            "ITERATION: The iteration being evaluated.\n",
            "PIPELINE: A summary description of the pipeline being evaluated.\n",
            "DURATION: Time taken for the current iteration.\n",
            "METRIC: The result of computing score on the fitted pipeline.\n",
            "BEST: The best observed score thus far.\n",
            "****************************************************************************************************\n",
            "\n",
            " ITERATION   PIPELINE                                       DURATION      METRIC      BEST\n",
            "         0   MaxAbsScaler LightGBM                          0:00:55       0.8985    0.8985\n",
            "         1   MaxAbsScaler XGBoostClassifier                 0:01:01       0.9060    0.9060\n",
            "         2   MaxAbsScaler RandomForest                      0:00:57       0.7165    0.9060\n",
            "         3   MaxAbsScaler RandomForest                      0:00:59       0.6235    0.9060\n",
            "         4   MaxAbsScaler RandomForest                      0:01:07       0.7215    0.9060\n",
            "         5   MaxAbsScaler RandomForest                      0:00:59       0.5900    0.9060\n",
            "         6   SparseNormalizer XGBoostClassifier             0:01:03       0.9050    0.9060\n",
            "         7   MaxAbsScaler RandomForest                      0:01:06       0.7715    0.9060\n",
            "         8   SparseNormalizer LightGBM                      0:00:58       0.8510    0.9060\n",
            "         9   MaxAbsScaler LogisticRegression                0:00:58       0.7535    0.9060\n",
            "        10   SparseNormalizer XGBoostClassifier             0:01:05       0.8665    0.9060\n",
            "        11   StandardScalerWrapper LightGBM                 0:01:06       0.7735    0.9060\n",
            "        12   MaxAbsScaler ExtremeRandomTrees                0:01:13       0.8210    0.9060\n",
            "        13   SparseNormalizer XGBoostClassifier             0:01:05       0.8345    0.9060\n",
            "        14   StandardScalerWrapper RandomForest             0:01:10       0.7995    0.9060\n",
            "        15   StandardScalerWrapper LogisticRegression       0:01:10       0.7245    0.9060\n",
            "        16   SparseNormalizer XGBoostClassifier             0:00:59       0.8750    0.9060\n",
            "        17   SparseNormalizer LightGBM                      0:01:09       0.8935    0.9060\n",
            "        18   StandardScalerWrapper XGBoostClassifier        0:00:55       0.8080    0.9060\n",
            "        19    VotingEnsemble                                0:01:02       0.9375    0.9375\n",
            "        20    StackEnsemble                                 0:01:26       0.9350    0.9375\n"
          ]
        },
        {
          "output_type": "execute_result",
          "execution_count": 8,
          "data": {
            "text/plain": "{'runId': 'AutoML_e5dc7447-e4a9-44ac-a048-0ebec61dd69e',\n 'target': 'capstone-compute',\n 'status': 'Completed',\n 'startTimeUtc': '2021-04-20T01:37:30.904856Z',\n 'endTimeUtc': '2021-04-20T02:13:09.421211Z',\n 'properties': {'num_iterations': '1000',\n  'training_type': 'TrainFull',\n  'acquisition_function': 'EI',\n  'primary_metric': 'accuracy',\n  'train_split': '0',\n  'acquisition_parameter': '0',\n  'num_cross_validation': '4',\n  'target': 'capstone-compute',\n  'AMLSettingsJsonString': '{\"path\":null,\"name\":\"capstone_automl\",\"subscription_id\":\"a0a76bad-11a1-4a2d-9887-97a29122c8ed\",\"resource_group\":\"aml-quickstarts-143196\",\"workspace_name\":\"quick-starts-ws-143196\",\"region\":\"southcentralus\",\"compute_target\":\"capstone-compute\",\"spark_service\":null,\"azure_service\":\"remote\",\"many_models\":false,\"pipeline_fetch_max_batch_size\":1,\"enable_batch_run\":false,\"enable_run_restructure\":false,\"iterations\":1000,\"primary_metric\":\"accuracy\",\"task_type\":\"classification\",\"data_script\":null,\"test_size\":0.0,\"validation_size\":0.0,\"n_cross_validations\":4,\"y_min\":null,\"y_max\":null,\"num_classes\":null,\"featurization\":\"auto\",\"_ignore_package_version_incompatibilities\":false,\"is_timeseries\":false,\"max_cores_per_iteration\":1,\"max_concurrent_iterations\":1,\"iteration_timeout_minutes\":7,\"mem_in_mb\":null,\"enforce_time_on_windows\":false,\"experiment_timeout_minutes\":25,\"experiment_exit_score\":null,\"whitelist_models\":null,\"blacklist_algos\":[\"TensorFlowLinearClassifier\",\"TensorFlowDNN\"],\"supported_models\":[\"LightGBM\",\"LogisticRegression\",\"LinearSVM\",\"DecisionTree\",\"TensorFlowDNN\",\"GradientBoosting\",\"BernoulliNaiveBayes\",\"RandomForest\",\"ExtremeRandomTrees\",\"TensorFlowLinearClassifier\",\"XGBoostClassifier\",\"KNN\",\"AveragedPerceptronClassifier\",\"SGD\",\"SVM\",\"MultinomialNaiveBayes\"],\"private_models\":[],\"auto_blacklist\":true,\"blacklist_samples_reached\":false,\"exclude_nan_labels\":true,\"verbosity\":20,\"_debug_log\":\"azureml_automl.log\",\"show_warnings\":false,\"model_explainability\":true,\"service_url\":null,\"sdk_url\":null,\"sdk_packages\":null,\"enable_onnx_compatible_models\":false,\"enable_split_onnx_featurizer_estimator_models\":false,\"vm_type\":\"STANDARD_D3_V2\",\"telemetry_verbosity\":20,\"send_telemetry\":true,\"enable_dnn\":false,\"scenario\":\"SDK-1.13.0\",\"environment_label\":null,\"save_mlflow\":false,\"force_text_dnn\":false,\"enable_feature_sweeping\":true,\"enable_early_stopping\":true,\"early_stopping_n_iters\":10,\"metrics\":null,\"enable_metric_confidence\":false,\"enable_ensembling\":true,\"enable_stack_ensembling\":true,\"ensemble_iterations\":15,\"enable_tf\":false,\"enable_subsampling\":null,\"subsample_seed\":null,\"enable_nimbusml\":false,\"enable_streaming\":false,\"force_streaming\":false,\"track_child_runs\":true,\"allowed_private_models\":[],\"label_column_name\":\"price_range\",\"weight_column_name\":null,\"cv_split_column_names\":null,\"enable_local_managed\":false,\"_local_managed_run_id\":null,\"cost_mode\":1,\"lag_length\":0,\"metric_operation\":\"maximize\",\"preprocess\":true}',\n  'DataPrepJsonString': '{\\\\\"training_data\\\\\": {\\\\\"datasetId\\\\\": \\\\\"1ee1a8fc-d352-41b3-acf4-954b09860a8e\\\\\"}, \\\\\"datasets\\\\\": 0}',\n  'EnableSubsampling': None,\n  'runTemplate': 'AutoML',\n  'azureml.runsource': 'automl',\n  'display_task_type': 'classification',\n  'dependencies_versions': '{\"azureml-widgets\": \"1.26.0\", \"azureml-train\": \"1.26.0\", \"azureml-train-restclients-hyperdrive\": \"1.26.0\", \"azureml-train-core\": \"1.26.0\", \"azureml-train-automl\": \"1.26.0\", \"azureml-train-automl-runtime\": \"1.26.0\", \"azureml-train-automl-client\": \"1.26.0\", \"azureml-tensorboard\": \"1.26.0\", \"azureml-telemetry\": \"1.26.0\", \"azureml-sdk\": \"1.26.0\", \"azureml-samples\": \"0+unknown\", \"azureml-pipeline\": \"1.26.0\", \"azureml-pipeline-steps\": \"1.26.0\", \"azureml-pipeline-core\": \"1.26.0\", \"azureml-opendatasets\": \"1.26.0\", \"azureml-model-management-sdk\": \"1.0.1b6.post1\", \"azureml-mlflow\": \"1.26.0\", \"azureml-interpret\": \"1.26.0\", \"azureml-explain-model\": \"1.26.0\", \"azureml-defaults\": \"1.26.0\", \"azureml-dataset-runtime\": \"1.26.0\", \"azureml-dataprep\": \"2.13.2\", \"azureml-dataprep-rslex\": \"1.11.2\", \"azureml-dataprep-native\": \"32.0.0\", \"azureml-datadrift\": \"1.26.0\", \"azureml-core\": \"1.26.0\", \"azureml-contrib-services\": \"1.26.0\", \"azureml-contrib-server\": \"1.26.0\", \"azureml-contrib-reinforcementlearning\": \"1.26.0\", \"azureml-contrib-pipeline-steps\": \"1.26.0\", \"azureml-contrib-notebook\": \"1.26.0\", \"azureml-contrib-gbdt\": \"1.26.0\", \"azureml-contrib-fairness\": \"1.26.0\", \"azureml-contrib-dataset\": \"1.26.0\", \"azureml-cli-common\": \"1.26.0\", \"azureml-automl-runtime\": \"1.26.0\", \"azureml-automl-dnn-nlp\": \"1.26.0\", \"azureml-automl-core\": \"1.26.0\", \"azureml-accel-models\": \"1.26.0\"}',\n  '_aml_system_scenario_identification': 'Remote.Parent',\n  'ClientType': 'SDK',\n  'environment_cpu_name': 'AzureML-AutoML',\n  'environment_cpu_label': 'prod',\n  'environment_gpu_name': 'AzureML-AutoML-GPU',\n  'environment_gpu_label': 'prod',\n  'root_attribution': 'automl',\n  'attribution': 'AutoML',\n  'Orchestrator': 'AutoML',\n  'CancelUri': 'https://southcentralus.api.azureml.ms/jasmine/v1.0/subscriptions/a0a76bad-11a1-4a2d-9887-97a29122c8ed/resourceGroups/aml-quickstarts-143196/providers/Microsoft.MachineLearningServices/workspaces/quick-starts-ws-143196/experimentids/20603e67-2d98-4659-b655-94c43ed57662/cancel/AutoML_e5dc7447-e4a9-44ac-a048-0ebec61dd69e',\n  'azureml.git.repository_uri': 'https://github.com/AnshuTrivedi/Capstone-Project---Azure-Machine-Learning-Engineer.git',\n  'mlflow.source.git.repoURL': 'https://github.com/AnshuTrivedi/Capstone-Project---Azure-Machine-Learning-Engineer.git',\n  'azureml.git.branch': 'master',\n  'mlflow.source.git.branch': 'master',\n  'azureml.git.commit': '35230dc4d7195bf271c2d178f002705f78c9c5cd',\n  'mlflow.source.git.commit': '35230dc4d7195bf271c2d178f002705f78c9c5cd',\n  'azureml.git.dirty': 'True',\n  'ClientSdkVersion': '1.26.0',\n  'snapshotId': '00000000-0000-0000-0000-000000000000',\n  'SetupRunId': 'AutoML_e5dc7447-e4a9-44ac-a048-0ebec61dd69e_setup',\n  'SetupRunContainerId': 'dcid.AutoML_e5dc7447-e4a9-44ac-a048-0ebec61dd69e_setup',\n  'FeaturizationRunJsonPath': 'featurizer_container.json',\n  'FeaturizationRunId': 'AutoML_e5dc7447-e4a9-44ac-a048-0ebec61dd69e_featurize',\n  'ProblemInfoJsonString': '{\"dataset_num_categorical\": 0, \"is_sparse\": true, \"subsampling\": false, \"dataset_classes\": 4, \"dataset_features\": 116, \"dataset_samples\": 2000, \"single_frequency_class_detected\": false}',\n  'ModelExplainRunId': 'AutoML_e5dc7447-e4a9-44ac-a048-0ebec61dd69e_ModelExplain'},\n 'inputDatasets': [{'dataset': {'id': '1ee1a8fc-d352-41b3-acf4-954b09860a8e'}, 'consumptionDetails': {'type': 'RunInput', 'inputName': 'training_data', 'mechanism': 'Direct'}}],\n 'outputDatasets': [],\n 'logFiles': {},\n 'submittedBy': 'ODL_User 143196'}"
          },
          "metadata": {}
        }
      ],
      "execution_count": 8,
      "metadata": {
        "gather": {
          "logged": 1618884802316
        },
        "jupyter": {
          "outputs_hidden": false,
          "source_hidden": false
        },
        "nteract": {
          "transient": {
            "deleting": false
          }
        }
      }
    },
    {
      "cell_type": "markdown",
      "source": [
        "## Best Model\n",
        "\n",
        "TODO: In the cell below, get the best model from the automl experiments and display all the properties of the model.\n",
        "\n"
      ],
      "metadata": {}
    },
    {
      "cell_type": "code",
      "source": [
        "best_run, model = remote_run.get_output()\n",
        "print(best_run)\n",
        "print(model)"
      ],
      "outputs": [
        {
          "output_type": "stream",
          "name": "stdout",
          "text": [
            "Run(Experiment: capstone_automl,\n",
            "Id: AutoML_e5dc7447-e4a9-44ac-a048-0ebec61dd69e_19,\n",
            "Type: azureml.scriptrun,\n",
            "Status: Completed)\n",
            "Pipeline(memory=None,\n",
            "         steps=[('datatransformer',\n",
            "                 DataTransformer(enable_dnn=None, enable_feature_sweeping=None,\n",
            "                                 feature_sweeping_config=None,\n",
            "                                 feature_sweeping_timeout=None,\n",
            "                                 featurization_config=None, force_text_dnn=None,\n",
            "                                 is_cross_validation=None,\n",
            "                                 is_onnx_compatible=None, logger=None,\n",
            "                                 observer=None, task=None, working_dir=None)),\n",
            "                ('prefittedsoftvotingclassifier',...\n",
            "                                                                                                    n_estimators=10,\n",
            "                                                                                                    n_jobs=1,\n",
            "                                                                                                    oob_score=False,\n",
            "                                                                                                    random_state=None,\n",
            "                                                                                                    verbose=0,\n",
            "                                                                                                    warm_start=False))],\n",
            "                                                                     verbose=False))],\n",
            "                                               flatten_transform=None,\n",
            "                                               weights=[0.06666666666666667,\n",
            "                                                        0.2,\n",
            "                                                        0.06666666666666667,\n",
            "                                                        0.06666666666666667,\n",
            "                                                        0.06666666666666667,\n",
            "                                                        0.13333333333333333,\n",
            "                                                        0.06666666666666667,\n",
            "                                                        0.06666666666666667,\n",
            "                                                        0.13333333333333333,\n",
            "                                                        0.06666666666666667,\n",
            "                                                        0.06666666666666667]))],\n",
            "         verbose=False)\n"
          ]
        }
      ],
      "execution_count": 9,
      "metadata": {
        "collapsed": true,
        "gather": {
          "logged": 1618884816981
        },
        "jupyter": {
          "outputs_hidden": false,
          "source_hidden": false
        },
        "nteract": {
          "transient": {
            "deleting": false
          }
        }
      }
    },
    {
      "cell_type": "code",
      "source": [
        "best_run.get_metrics(name='accuracy')"
      ],
      "outputs": [
        {
          "output_type": "execute_result",
          "execution_count": 10,
          "data": {
            "text/plain": "{'accuracy': 0.9375}"
          },
          "metadata": {}
        }
      ],
      "execution_count": 10,
      "metadata": {
        "collapsed": true,
        "gather": {
          "logged": 1618884817207
        },
        "jupyter": {
          "outputs_hidden": false,
          "source_hidden": false
        },
        "nteract": {
          "transient": {
            "deleting": false
          }
        }
      }
    },
    {
      "cell_type": "code",
      "source": [
        "best_run_metrics = best_run.get_metrics()\n",
        "best_run_metrics"
      ],
      "outputs": [
        {
          "output_type": "execute_result",
          "execution_count": 11,
          "data": {
            "text/plain": "{'accuracy': 0.9375,\n 'balanced_accuracy': 0.9372973651295377,\n 'matthews_correlation': 0.9168088244657683,\n 'AUC_micro': 0.9943833333333334,\n 'norm_macro_recall': 0.9163964868393835,\n 'precision_score_macro': 0.9375269192742518,\n 'precision_score_weighted': 0.9376282585231983,\n 'AUC_macro': 0.9936597163698846,\n 'f1_score_weighted': 0.9372410485200529,\n 'precision_score_micro': 0.9375,\n 'recall_score_weighted': 0.9375,\n 'log_loss': 0.5014385077550394,\n 'weighted_accuracy': 0.9377126255665977,\n 'f1_score_macro': 0.9370929842806404,\n 'AUC_weighted': 0.9936656276629385,\n 'average_precision_score_weighted': 0.981582048420412,\n 'average_precision_score_micro': 0.9836532799755314,\n 'f1_score_micro': 0.9375,\n 'recall_score_macro': 0.9372973651295377,\n 'average_precision_score_macro': 0.9815599942815594,\n 'recall_score_micro': 0.9375,\n 'accuracy_table': 'aml://artifactId/ExperimentRun/dcid.AutoML_e5dc7447-e4a9-44ac-a048-0ebec61dd69e_19/accuracy_table',\n 'confusion_matrix': 'aml://artifactId/ExperimentRun/dcid.AutoML_e5dc7447-e4a9-44ac-a048-0ebec61dd69e_19/confusion_matrix'}"
          },
          "metadata": {}
        }
      ],
      "execution_count": 11,
      "metadata": {
        "gather": {
          "logged": 1618884820168
        }
      }
    },
    {
      "cell_type": "markdown",
      "source": [
        "## Model Deployment\n",
        "\n",
        "Remember you have to deploy only one of the two models you trained.. Perform the steps in the rest of this notebook only if you wish to deploy this model.\n",
        "\n",
        "TODO: In the cell below, register the model, create an inference config and deploy the model as a web service."
      ],
      "metadata": {}
    },
    {
      "cell_type": "code",
      "source": [
        "#TODO: Save the best model\n",
        "from azureml.core import Model\n",
        "\n",
        "# Register model\n",
        "auto_model=best_run.register_model(model_path='outputs/model.pkl', model_name='automl_model',\n",
        "                        tags={'Training context':'Auto ML'},\n",
        "                        properties={'AUC': best_run_metrics['AUC_weighted'], 'Accuracy': best_run_metrics['accuracy']})\n",
        "\n",
        "# List registered models\n",
        "for model in Model.list(ws):\n",
        "    print(model.name, 'version:', model.version)\n",
        "    for tag_name in model.tags:\n",
        "        tag = model.tags[tag_name]\n",
        "        print ('\\t',tag_name, ':', tag)\n",
        "    for prop_name in model.properties:\n",
        "        prop = model.properties[prop_name]\n",
        "        print ('\\t',prop_name, ':', prop)"
      ],
      "outputs": [
        {
          "output_type": "stream",
          "name": "stdout",
          "text": [
            "automl_model version: 2\n",
            "\t Training context : Auto ML\n",
            "\t AUC : 0.9936656276629385\n",
            "\t Accuracy : 0.9375\n",
            "automl_model version: 1\n",
            "\t Training context : Auto ML\n",
            "\t AUC : 0.9936656276629385\n",
            "\t Accuracy : 0.9375\n",
            "best_hd_run version: 3\n",
            "best_hd_run version: 2\n",
            "best_hd_run version: 1\n"
          ]
        }
      ],
      "execution_count": 23,
      "metadata": {
        "collapsed": true,
        "gather": {
          "logged": 1618887450086
        },
        "jupyter": {
          "outputs_hidden": false,
          "source_hidden": false
        },
        "nteract": {
          "transient": {
            "deleting": false
          }
        }
      }
    },
    {
      "cell_type": "code",
      "source": [
        "from azureml.automl.core.shared import constants\n",
        "best_run.download_file(constants.CONDA_ENV_FILE_PATH, 'myenv.yml')"
      ],
      "outputs": [],
      "execution_count": 25,
      "metadata": {
        "gather": {
          "logged": 1618887488418
        },
        "jupyter": {
          "outputs_hidden": false,
          "source_hidden": false
        },
        "nteract": {
          "transient": {
            "deleting": false
          }
        }
      }
    },
    {
      "cell_type": "code",
      "source": [
        "# create inference_config\n",
        "from azureml.core.model import InferenceConfig\n",
        "from azureml.core.environment import Environment\n",
        "myenv = Environment.from_conda_specification(name = 'myenv',\n",
        "                                             file_path = 'myenv.yml')\n",
        "inference_config = InferenceConfig(entry_script=\"scoring.py\",environment=myenv)"
      ],
      "outputs": [],
      "execution_count": 26,
      "metadata": {
        "gather": {
          "logged": 1618887490865
        }
      }
    },
    {
      "cell_type": "code",
      "source": [
        "from azureml.core.webservice import Webservice, AciWebservice\n",
        "deployment_config = AciWebservice.deploy_configuration(cpu_cores=1, memory_gb = 1)"
      ],
      "outputs": [],
      "execution_count": 27,
      "metadata": {
        "gather": {
          "logged": 1618887491101
        }
      }
    },
    {
      "cell_type": "markdown",
      "source": [
        "TODO: In the cell below, send a request to the web service you deployed to test it."
      ],
      "metadata": {}
    },
    {
      "cell_type": "code",
      "source": [
        "#deploy the model\n",
        "service=Model.deploy(workspace=ws,\n",
        "                    name=\"mobile-price-range-classifier\",\n",
        "                    models=[auto_model],\n",
        "                    inference_config=inference_config,\n",
        "                    deployment_config=deployment_config)\n",
        "service.wait_for_deployment(show_output=True)"
      ],
      "outputs": [
        {
          "output_type": "stream",
          "name": "stdout",
          "text": [
            "Tips: You can try get_logs(): https://aka.ms/debugimage#dockerlog or local deployment: https://aka.ms/debugimage#debug-locally to debug if deployment takes longer than 10 minutes.\n",
            "Running\n",
            "2021-04-20 02:58:29+00:00 Creating Container Registry if not exists.\n",
            "2021-04-20 02:58:29+00:00 Registering the environment.\n",
            "2021-04-20 02:58:30+00:00 Use the existing image.\n",
            "2021-04-20 02:58:31+00:00 Generating deployment configuration.\n",
            "2021-04-20 02:58:33+00:00 Submitting deployment to compute..\n",
            "2021-04-20 02:58:38+00:00 Checking the status of deployment mobile-price-range-classifier..\n",
            "2021-04-20 03:03:53+00:00 Checking the status of inference endpoint mobile-price-range-classifier.\n",
            "Succeeded\n",
            "ACI service creation operation finished, operation \"Succeeded\"\n"
          ]
        }
      ],
      "execution_count": 28,
      "metadata": {
        "gather": {
          "logged": 1618887841051
        }
      }
    },
    {
      "cell_type": "code",
      "source": [
        "print(service.get_logs())"
      ],
      "outputs": [
        {
          "output_type": "stream",
          "name": "stdout",
          "text": [
            "2021-04-20T03:03:42,351607400+00:00 - iot-server/run \n",
            "2021-04-20T03:03:42,353835400+00:00 - rsyslog/run \n",
            "2021-04-20T03:03:42,363460800+00:00 - gunicorn/run \n",
            "2021-04-20T03:03:42,393115900+00:00 - nginx/run \n",
            "rsyslogd: /azureml-envs/azureml_730341d347b7d9e2f1baba033329cdff/lib/libuuid.so.1: no version information available (required by rsyslogd)\n",
            "/usr/sbin/nginx: /azureml-envs/azureml_730341d347b7d9e2f1baba033329cdff/lib/libcrypto.so.1.0.0: no version information available (required by /usr/sbin/nginx)\n",
            "/usr/sbin/nginx: /azureml-envs/azureml_730341d347b7d9e2f1baba033329cdff/lib/libcrypto.so.1.0.0: no version information available (required by /usr/sbin/nginx)\n",
            "/usr/sbin/nginx: /azureml-envs/azureml_730341d347b7d9e2f1baba033329cdff/lib/libssl.so.1.0.0: no version information available (required by /usr/sbin/nginx)\n",
            "/usr/sbin/nginx: /azureml-envs/azureml_730341d347b7d9e2f1baba033329cdff/lib/libssl.so.1.0.0: no version information available (required by /usr/sbin/nginx)\n",
            "/usr/sbin/nginx: /azureml-envs/azureml_730341d347b7d9e2f1baba033329cdff/lib/libssl.so.1.0.0: no version information available (required by /usr/sbin/nginx)\n",
            "EdgeHubConnectionString and IOTEDGE_IOTHUBHOSTNAME are not set. Exiting...\n",
            "2021-04-20T03:03:42,644514200+00:00 - iot-server/finish 1 0\n",
            "2021-04-20T03:03:42,645854600+00:00 - Exit code 1 is normal. Not restarting iot-server.\n",
            "Starting gunicorn 19.9.0\n",
            "Listening at: http://127.0.0.1:31311 (73)\n",
            "Using worker: sync\n",
            "worker timeout is set to 300\n",
            "Booting worker with pid: 102\n",
            "SPARK_HOME not set. Skipping PySpark Initialization.\n",
            "Generating new fontManager, this may take some time...\n",
            "Initializing logger\n",
            "2021-04-20 03:03:44,908 | root | INFO | Starting up app insights client\n",
            "2021-04-20 03:03:44,909 | root | INFO | Starting up request id generator\n",
            "2021-04-20 03:03:44,909 | root | INFO | Starting up app insight hooks\n",
            "2021-04-20 03:03:44,909 | root | INFO | Invoking user's init function\n",
            "2021-04-20 03:03:49,359 | azureml.core | WARNING | Failure while loading azureml_run_type_providers. Failed to load entrypoint automl = azureml.train.automl.run:AutoMLRun._from_run_dto with exception cannot import name 'RunType'.\n",
            "Failure while loading azureml_run_type_providers. Failed to load entrypoint automl = azureml.train.automl.run:AutoMLRun._from_run_dto with exception cannot import name 'RunType'.\n",
            "2021-04-20 03:03:49,578 | root | INFO | Users's init has completed successfully\n",
            "2021-04-20 03:03:49,586 | root | INFO | Skipping middleware: dbg_model_info as it's not enabled.\n",
            "2021-04-20 03:03:49,586 | root | INFO | Skipping middleware: dbg_resource_usage as it's not enabled.\n",
            "2021-04-20 03:03:49,588 | root | INFO | Scoring timeout is found from os.environ: 60000 ms\n",
            "2021-04-20 03:03:53,808 | root | INFO | Swagger file not present\n",
            "2021-04-20 03:03:53,809 | root | INFO | 404\n",
            "127.0.0.1 - - [20/Apr/2021:03:03:53 +0000] \"GET /swagger.json HTTP/1.0\" 404 19 \"-\" \"Go-http-client/1.1\"\n",
            "2021-04-20 03:04:00,416 | root | INFO | Swagger file not present\n",
            "2021-04-20 03:04:00,417 | root | INFO | 404\n",
            "127.0.0.1 - - [20/Apr/2021:03:04:00 +0000] \"GET /swagger.json HTTP/1.0\" 404 19 \"-\" \"Go-http-client/1.1\"\n",
            "\n"
          ]
        }
      ],
      "execution_count": 29,
      "metadata": {
        "gather": {
          "logged": 1618887841900
        }
      }
    },
    {
      "cell_type": "code",
      "source": [
        "scoring_uri = service.scoring_uri\n",
        "\n",
        "print(f'\\nservice state: {service.state}\\n')\n",
        "print(f'scoring URI: \\n{service.scoring_uri}\\n')\n",
        "print(f'swagger URI: \\n{service.swagger_uri}\\n')\n",
        "\n",
        "print(service.scoring_uri)\n",
        "print(service.swagger_uri)"
      ],
      "outputs": [
        {
          "output_type": "stream",
          "name": "stdout",
          "text": [
            "\n",
            "service state: Healthy\n",
            "\n",
            "scoring URI: \n",
            "http://2c1376e2-19cf-42e1-9eb8-e3c4a2bc53c8.southcentralus.azurecontainer.io/score\n",
            "\n",
            "swagger URI: \n",
            "http://2c1376e2-19cf-42e1-9eb8-e3c4a2bc53c8.southcentralus.azurecontainer.io/swagger.json\n",
            "\n",
            "http://2c1376e2-19cf-42e1-9eb8-e3c4a2bc53c8.southcentralus.azurecontainer.io/score\n",
            "http://2c1376e2-19cf-42e1-9eb8-e3c4a2bc53c8.southcentralus.azurecontainer.io/swagger.json\n"
          ]
        }
      ],
      "execution_count": 30,
      "metadata": {
        "gather": {
          "logged": 1618887881598
        }
      }
    },
    {
      "cell_type": "markdown",
      "source": [
        "TODO: In the cell below, print the logs of the web service and delete the service"
      ],
      "metadata": {
        "collapsed": true,
        "gather": {
          "logged": 1598432765711
        },
        "jupyter": {
          "outputs_hidden": false,
          "source_hidden": false
        },
        "nteract": {
          "transient": {
            "deleting": false
          }
        }
      }
    },
    {
      "cell_type": "code",
      "source": [
        "x = mobile_sales_data.to_pandas_dataframe().iloc[0, :-1].to_dict()\n",
        "y = mobile_sales_data.to_pandas_dataframe().iloc[0, -1]"
      ],
      "outputs": [],
      "execution_count": 31,
      "metadata": {
        "gather": {
          "logged": 1618887893211
        }
      }
    },
    {
      "cell_type": "code",
      "source": [
        "print(x)"
      ],
      "outputs": [
        {
          "output_type": "stream",
          "name": "stdout",
          "text": [
            "{'battery_power': 842.0, 'blue': 0.0, 'clock_speed': 2.2, 'dual_sim': 0.0, 'fc': 1.0, 'four_g': 0.0, 'int_memory': 7.0, 'm_dep': 0.6, 'mobile_wt': 188.0, 'n_cores': 2.0, 'pc': 2.0, 'px_height': 20.0, 'px_width': 756.0, 'ram': 2549.0, 'sc_h': 9.0, 'sc_w': 7.0, 'talk_time': 19.0, 'three_g': 0.0, 'touch_screen': 0.0, 'wifi': 1.0}\n"
          ]
        }
      ],
      "execution_count": 32,
      "metadata": {
        "gather": {
          "logged": 1618887893414
        }
      }
    },
    {
      "cell_type": "code",
      "source": [
        "print(y)"
      ],
      "outputs": [
        {
          "output_type": "stream",
          "name": "stdout",
          "text": [
            "1\n"
          ]
        }
      ],
      "execution_count": 33,
      "metadata": {
        "gather": {
          "logged": 1618887896585
        }
      }
    },
    {
      "cell_type": "code",
      "source": [
        "import requests\n",
        "import json\n",
        "\n",
        "data = {\n",
        "  \"data\": [\n",
        "    {\n",
        "                  'battery_power':842,\n",
        "                  'blue':0,\n",
        "                  'clock_speed':2.2,\n",
        "                  'dual_sim':0,\n",
        "                  'fc':1,\n",
        "                  'four_g':0,\n",
        "                  'int_memory':7,\n",
        "                  'm_dep':0.6,\n",
        "                  'mobile_wt':188,\n",
        "                  'n_cores':2,\n",
        "                  'pc':2,\n",
        "                  'px_height':20,\n",
        "                  'px_width':756,\n",
        "                  'ram':2549,\n",
        "                  'sc_h':9,\n",
        "                  'sc_w':7,\n",
        "                  'talk_time':19,\n",
        "                  'three_g':0,\n",
        "                  'touch_screen':0,\n",
        "                  'wifi':\t1\n",
        "                 \n",
        "                 \n",
        "    }\n",
        " ]}\n",
        "    \n",
        "# Convert to JSON string\n",
        "input_data = json.dumps(data)\n",
        "output = service.run(input_data)\n",
        "headers = {'Content-Type': 'application/json'}"
      ],
      "outputs": [],
      "execution_count": 34,
      "metadata": {
        "gather": {
          "logged": 1618887897099
        },
        "jupyter": {
          "outputs_hidden": false,
          "source_hidden": false
        },
        "nteract": {
          "transient": {
            "deleting": false
          }
        }
      }
    },
    {
      "cell_type": "code",
      "source": [
        "# Make the request and display the response\n",
        "resp = requests.post(scoring_uri, input_data, headers=headers)\n",
        "print(\"prediction \", resp.text)"
      ],
      "outputs": [
        {
          "output_type": "stream",
          "name": "stdout",
          "text": [
            "prediction  [1]\n"
          ]
        }
      ],
      "execution_count": 35,
      "metadata": {
        "gather": {
          "logged": 1618887899407
        }
      }
    },
    {
      "cell_type": "code",
      "source": [
        "print('Status code:',resp.status_code)\n",
        "print(service.get_logs())"
      ],
      "outputs": [
        {
          "output_type": "stream",
          "name": "stdout",
          "text": [
            "Status code: 200\n",
            "2021-04-20T03:03:42,351607400+00:00 - iot-server/run \n",
            "2021-04-20T03:03:42,353835400+00:00 - rsyslog/run \n",
            "2021-04-20T03:03:42,363460800+00:00 - gunicorn/run \n",
            "2021-04-20T03:03:42,393115900+00:00 - nginx/run \n",
            "rsyslogd: /azureml-envs/azureml_730341d347b7d9e2f1baba033329cdff/lib/libuuid.so.1: no version information available (required by rsyslogd)\n",
            "/usr/sbin/nginx: /azureml-envs/azureml_730341d347b7d9e2f1baba033329cdff/lib/libcrypto.so.1.0.0: no version information available (required by /usr/sbin/nginx)\n",
            "/usr/sbin/nginx: /azureml-envs/azureml_730341d347b7d9e2f1baba033329cdff/lib/libcrypto.so.1.0.0: no version information available (required by /usr/sbin/nginx)\n",
            "/usr/sbin/nginx: /azureml-envs/azureml_730341d347b7d9e2f1baba033329cdff/lib/libssl.so.1.0.0: no version information available (required by /usr/sbin/nginx)\n",
            "/usr/sbin/nginx: /azureml-envs/azureml_730341d347b7d9e2f1baba033329cdff/lib/libssl.so.1.0.0: no version information available (required by /usr/sbin/nginx)\n",
            "/usr/sbin/nginx: /azureml-envs/azureml_730341d347b7d9e2f1baba033329cdff/lib/libssl.so.1.0.0: no version information available (required by /usr/sbin/nginx)\n",
            "EdgeHubConnectionString and IOTEDGE_IOTHUBHOSTNAME are not set. Exiting...\n",
            "2021-04-20T03:03:42,644514200+00:00 - iot-server/finish 1 0\n",
            "2021-04-20T03:03:42,645854600+00:00 - Exit code 1 is normal. Not restarting iot-server.\n",
            "Starting gunicorn 19.9.0\n",
            "Listening at: http://127.0.0.1:31311 (73)\n",
            "Using worker: sync\n",
            "worker timeout is set to 300\n",
            "Booting worker with pid: 102\n",
            "SPARK_HOME not set. Skipping PySpark Initialization.\n",
            "Generating new fontManager, this may take some time...\n",
            "Initializing logger\n",
            "2021-04-20 03:03:44,908 | root | INFO | Starting up app insights client\n",
            "2021-04-20 03:03:44,909 | root | INFO | Starting up request id generator\n",
            "2021-04-20 03:03:44,909 | root | INFO | Starting up app insight hooks\n",
            "2021-04-20 03:03:44,909 | root | INFO | Invoking user's init function\n",
            "2021-04-20 03:03:49,359 | azureml.core | WARNING | Failure while loading azureml_run_type_providers. Failed to load entrypoint automl = azureml.train.automl.run:AutoMLRun._from_run_dto with exception cannot import name 'RunType'.\n",
            "Failure while loading azureml_run_type_providers. Failed to load entrypoint automl = azureml.train.automl.run:AutoMLRun._from_run_dto with exception cannot import name 'RunType'.\n",
            "2021-04-20 03:03:49,578 | root | INFO | Users's init has completed successfully\n",
            "2021-04-20 03:03:49,586 | root | INFO | Skipping middleware: dbg_model_info as it's not enabled.\n",
            "2021-04-20 03:03:49,586 | root | INFO | Skipping middleware: dbg_resource_usage as it's not enabled.\n",
            "2021-04-20 03:03:49,588 | root | INFO | Scoring timeout is found from os.environ: 60000 ms\n",
            "2021-04-20 03:03:53,808 | root | INFO | Swagger file not present\n",
            "2021-04-20 03:03:53,809 | root | INFO | 404\n",
            "127.0.0.1 - - [20/Apr/2021:03:03:53 +0000] \"GET /swagger.json HTTP/1.0\" 404 19 \"-\" \"Go-http-client/1.1\"\n",
            "2021-04-20 03:04:00,416 | root | INFO | Swagger file not present\n",
            "2021-04-20 03:04:00,417 | root | INFO | 404\n",
            "127.0.0.1 - - [20/Apr/2021:03:04:00 +0000] \"GET /swagger.json HTTP/1.0\" 404 19 \"-\" \"Go-http-client/1.1\"\n",
            "2021-04-20 03:04:03,093 | root | INFO | Swagger file not present\n",
            "2021-04-20 03:04:03,093 | root | INFO | 404\n",
            "127.0.0.1 - - [20/Apr/2021:03:04:03 +0000] \"GET /swagger.json HTTP/1.0\" 404 19 \"-\" \"Go-http-client/1.1\"\n",
            "2021-04-20 03:04:56,220 | root | INFO | Validation Request Content-Type\n",
            "2021-04-20 03:04:56,220 | root | INFO | Scoring Timer is set to 60.0 seconds\n",
            "2021-04-20 03:04:56,375 | root | INFO | 200\n",
            "127.0.0.1 - - [20/Apr/2021:03:04:56 +0000] \"POST /score HTTP/1.0\" 200 3 \"-\" \"python-requests/2.25.1\"\n",
            "2021-04-20 03:04:59,174 | root | INFO | Validation Request Content-Type\n",
            "2021-04-20 03:04:59,175 | root | INFO | Scoring Timer is set to 60.0 seconds\n",
            "2021-04-20 03:04:59,277 | root | INFO | 200\n",
            "127.0.0.1 - - [20/Apr/2021:03:04:59 +0000] \"POST /score HTTP/1.0\" 200 3 \"-\" \"python-requests/2.25.1\"\n",
            "\n"
          ]
        }
      ],
      "execution_count": 36,
      "metadata": {
        "gather": {
          "logged": 1618887904495
        }
      }
    },
    {
      "cell_type": "code",
      "source": [
        "service.delete()\r\n",
        "compute_target.delete()\r\n",
        "model.delete()\r\n",
        "experiment.delete()"
      ],
      "outputs": [],
      "execution_count": null,
      "metadata": {
        "collapsed": true,
        "jupyter": {
          "source_hidden": false,
          "outputs_hidden": false
        },
        "nteract": {
          "transient": {
            "deleting": false
          }
        },
        "gather": {
          "logged": 1618888200974
        }
      }
    }
  ],
  "metadata": {
    "kernel_info": {
      "name": "python3"
    },
    "kernelspec": {
      "name": "python3",
      "language": "python",
      "display_name": "Python 3"
    },
    "language_info": {
      "name": "python",
      "version": "3.6.9",
      "mimetype": "text/x-python",
      "codemirror_mode": {
        "name": "ipython",
        "version": 3
      },
      "pygments_lexer": "ipython3",
      "nbconvert_exporter": "python",
      "file_extension": ".py"
    },
    "microsoft": {
      "host": {
        "AzureML": {
          "notebookHasBeenCompleted": true
        }
      }
    },
    "nteract": {
      "version": "nteract-front-end@1.0.0"
    }
  },
  "nbformat": 4,
  "nbformat_minor": 2
}